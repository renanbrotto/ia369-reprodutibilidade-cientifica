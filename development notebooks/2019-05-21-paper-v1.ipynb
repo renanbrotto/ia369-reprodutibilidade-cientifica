{
 "cells": [
  {
   "cell_type": "markdown",
   "metadata": {},
   "source": [
    "# <h1><center>Equidade em Aprendizado de Máquina</center></h1>\n",
    "\n",
    "## Renan Del Buono Brotto\n",
    "\n",
    "## Introdução\n",
    "\n",
    "As técnicas de Aprendizado de Máquina estão em rápida ascensão em diversas áreas, como processamento de linguagem natural  e reconhecimento de fala \\cite{Kamath2019}, processamento de imagem \\cite{Cipolla2013}, problemas de classificação \\cite{Duda2000}, reconhecimento de padrões \\cite{Bishop2006} entre outras. \n",
    "\n",
    "O objetivo central do Aprendizado de Máquina é projetar modelos computacionais capazes de aprender uma determinada tarefa a partir de dados, sem que exista uma programação específica para a tarefa em questão \\cite{Samuel1959}. Para tanto, apresentamos um conjunto de dados disponíveis, denominado conjunto de treinamento, a fim de que o modelo capture as informações relevantes para o problema investigado \\cite{Hastie2009}. \n",
    "\n",
    "Além de ter um bom desempenho, segundo uma métrica adequada, frente aos dados de treinamento, o modelo ajustado deve ser capaz de apresentar um bom desempenho frente a dados desconhecidos, pertencentes a um conjunto normalmente denominado conjunto de teste. Este segundo requisito configura a capacidade de generalização do modelo \\cite{Bishop2006}, \\cite{haykin-rn}.\n",
    "\n",
    "Contudo, durante o processo de aprendizagem, o modelo pode capturar informações irrelevantes, ou mesmo indesejadas, para a tarefa considerada, configurando uma situação de sobreajuste \\cite{haykin-rn}. Neste tipo de situação, temos um bom desempenho frente ao conjunto de treinamento, mas o modelo se comporta mal quando avaliado frente a novos dados \\cite{Bishop2006}. Dentre as informações indesejadas aprendidas, podemos citar ruído presente sobre os dados \\cite{Bishop2006} ou mesmo algum tipo de viés apresentado nos dados de treinamento.\n",
    "\n",
    "O viés contido nos dados de treinamento desempenha um papel fundamental quando aplicamos os modelos de Aprendizado de Máquina em tarefas com impacto social direto, tais como concessão de crédito \\cite{ONeil2016}., aprovação em universidades \\cite{ONeil2016} ou a concessão de liberdade condicional \\cite{Chouldechova2017}. Neste tipo de problema as técnicas clássicas de aprendizado incorporam as tendências observadas nos dados, o que pode dar origem a atributos discriminativos, como por exemplo o gênero em um problema de concessão de crédito ou a etnia em um problema de concessão de liberdade condicional. Uma vez aprendida esta característica, o modelo ajustado passa a produzir resultados que podem contribuir ainda mais com a disparidade do problema \\cite{ONeil2016}.\n",
    "\n",
    "\n"
   ]
  },
  {
   "cell_type": "markdown",
   "metadata": {},
   "source": [
    "## Objetivo\n",
    "\n",
    "Nosso objetivo neste trabalho é aplicar as técnicas de ICA \\cite{Hyvarinen2001} sobre os atributos do nosso problema de modo a promover a equidade na classificação. Para tanto, vamos investigar a descorrelação linear, tendo como base o trabalho \\cite{Zafar2017}, e a descorrelação não-linear, que é uma condição mais próxima da independência.\n",
    "\n",
    "Na sequência, descreveremos o _dataset_ que usaremos."
   ]
  },
  {
   "cell_type": "markdown",
   "metadata": {},
   "source": [
    "## Descrição do Dataset\n",
    "\n",
    "\n",
    "Neste trabalho, usaremos o Adult Data Set (Disponível em: http://archive.ics.uci.edu/ml/datasets/adult e de domínio público). Este conjunto de dados é formado por 14 atributos, tanto categóricos quanto atributos numéricos, anonimizado. Dentre estes atributos temos idade, tipo de trabalho, gênero, etnia, estado civil, horas trabalhadas por semana entre outros. Para cada indivíduo do conjunto de dados, temos um rótulo, indicando uma renda anual superior (igual) a $50 k ou inferior a este limiar.\n",
    "\n",
    "Como muitos dos atribuitos são categóricos, vamos convertê-los para atributos numéricos.\n"
   ]
  },
  {
   "cell_type": "code",
   "execution_count": 1,
   "metadata": {
    "scrolled": true
   },
   "outputs": [],
   "source": [
    "import numpy as np\n",
    "import pandas as pd\n",
    "from sklearn import preprocessing\n",
    "from sklearn import metrics\n",
    "from sklearn.decomposition import PCA\n",
    "from sklearn.linear_model import SGDClassifier\n",
    "import sklearn as sk\n",
    "import seaborn as sns\n",
    "import math\n",
    "import os\n",
    "import warnings\n",
    "warnings.filterwarnings('ignore')\n"
   ]
  },
  {
   "cell_type": "code",
   "execution_count": 2,
   "metadata": {
    "scrolled": true
   },
   "outputs": [],
   "source": [
    "def add_header(header, file, output_name):\n",
    "    #function to add a header to a csv file\n",
    "    import csv\n",
    "    \n",
    "    with open(file, 'rt') as input_file:\n",
    "        reader = csv.reader(input_file)\n",
    "        data_list = list(reader)\n",
    "    \n",
    "    with open(output_name, 'wt', newline ='') as output_file:\n",
    "        writer = csv.writer(output_file, delimiter=',')\n",
    "        writer.writerow(i for i in header)\n",
    "        for j in data_list:\n",
    "            writer.writerow(j)      "
   ]
  },
  {
   "cell_type": "code",
   "execution_count": 3,
   "metadata": {
    "scrolled": true
   },
   "outputs": [],
   "source": [
    "# Adicionando cabecalho aos dados\n",
    "\n",
    "header = [\"Age\", \"Workclass\", \"Fnlwgt\", \"Education\", \"Education-num\", \"Marital Status\", \"Occupation\", \"Relationship\", \"Race\", \"Sex\", \"Capital Gain\", \"Capital Loss\", \"Hours per Week\", \"Native Country\", \"Annual Gain\"]\n",
    "file = \"../data/adult-data.csv\"\n",
    "output_name = \"../data/adultdataset.csv\"\n",
    "add_header(header, file, output_name)"
   ]
  },
  {
   "cell_type": "code",
   "execution_count": 4,
   "metadata": {
    "scrolled": true
   },
   "outputs": [],
   "source": [
    "#Abrindo o conjunto de dados\n",
    "adult_data = pd.read_csv(\"../data/adultdataset.csv\", sep=',')\n",
    "\n",
    "#Selecao de atributos\n",
    "adult_data = adult_data.drop(columns=['Fnlwgt'])\n"
   ]
  },
  {
   "cell_type": "code",
   "execution_count": 5,
   "metadata": {
    "scrolled": true
   },
   "outputs": [],
   "source": [
    "# Conversão dos atributos categóricos em atributos numéricos\n",
    "le = preprocessing.LabelEncoder()\n",
    "le.fit(adult_data['Annual Gain'])\n",
    "le.classes_\n",
    "adult_data['Annual Gain'] = le.transform(adult_data['Annual Gain'])\n",
    "\n",
    "le = preprocessing.LabelEncoder()\n",
    "le.fit(adult_data['Workclass'])\n",
    "le.classes_\n",
    "adult_data['Workclass'] = le.transform(adult_data['Workclass'])\n",
    "adult_data.head(10)\n",
    "\n",
    "le = preprocessing.LabelEncoder()\n",
    "le.fit(adult_data['Education'])\n",
    "le.classes_\n",
    "adult_data['Education'] = le.transform(adult_data['Education'])\n",
    "\n",
    "le = preprocessing.LabelEncoder()\n",
    "le.fit(adult_data['Marital Status'])\n",
    "le.classes_\n",
    "adult_data['Marital Status'] = le.transform(adult_data['Marital Status'])\n",
    "\n",
    "le = preprocessing.LabelEncoder()\n",
    "le.fit(adult_data['Occupation'])\n",
    "le.classes_\n",
    "adult_data['Occupation'] = le.transform(adult_data['Occupation'])\n",
    "\n",
    "le = preprocessing.LabelEncoder()\n",
    "le.fit(adult_data['Relationship'])\n",
    "le.classes_\n",
    "adult_data['Relationship'] = le.transform(adult_data['Relationship'])\n",
    "\n",
    "le = preprocessing.LabelEncoder()\n",
    "le.fit(adult_data['Race'])\n",
    "le.classes_\n",
    "adult_data['Race'] = le.transform(adult_data['Race'])\n",
    "\n",
    "le = preprocessing.LabelEncoder()\n",
    "le.fit(adult_data['Sex'])\n",
    "le.classes_\n",
    "adult_data['Sex'] = le.transform(adult_data['Sex'])\n",
    "\n",
    "le = preprocessing.LabelEncoder()\n",
    "le.fit(adult_data['Native Country'])\n",
    "le.classes_\n",
    "adult_data['Native Country'] = le.transform(adult_data['Native Country'])\n",
    "\n"
   ]
  },
  {
   "cell_type": "markdown",
   "metadata": {},
   "source": [
    "Para melhor entendermos a inequidade presente nos dados, vamos comparar, na sequência, o percentual de indivíduos com alta renda na população completa, na população masculina e na população feminina."
   ]
  },
  {
   "cell_type": "markdown",
   "metadata": {},
   "source": [
    "### População Completa\n",
    "\n",
    "Vamos agora, visualizar um pouco os dados. Inicialmente, vamos analisar a proporção de indivíduos com alta renda (>= 50K) na população completa."
   ]
  },
  {
   "cell_type": "code",
   "execution_count": 6,
   "metadata": {
    "scrolled": true
   },
   "outputs": [
    {
     "data": {
      "image/png": "[encoded data removed]",
      "text/plain": [
       "<Figure size 432x288 with 1 Axes>"
      ]
     },
     "metadata": {
      "needs_background": "light"
     },
     "output_type": "display_data"
    }
   ],
   "source": [
    "sns.countplot(adult_data['Annual Gain'])\n",
    "\n",
    "adult_1 = sum(adult_data['Annual Gain']==1)\n",
    "\n",
    "adult_0 = sum(adult_data['Annual Gain']==0)\n",
    "\n",
    "ratio = adult_1/(adult_0 + adult_1)\n",
    "#print('Percentual de alta renda (populacao completa): \\n', ratio*100, '%')"
   ]
  },
  {
   "cell_type": "markdown",
   "metadata": {},
   "source": [
    "Vamos agora repetir a mesma análise entre as populações masculina e feminina.\n",
    "### Análise das Populações Masculina e Feminina"
   ]
  },
  {
   "cell_type": "code",
   "execution_count": 7,
   "metadata": {
    "scrolled": true
   },
   "outputs": [],
   "source": [
    "# Populacao Feminina\n",
    "is_female = adult_data.Sex == 0\n",
    "is_female.head()\n",
    "female_data = adult_data[is_female]\n"
   ]
  },
  {
   "cell_type": "code",
   "execution_count": 8,
   "metadata": {},
   "outputs": [],
   "source": [
    "#Populacao Masculina\n",
    "is_male = adult_data.Sex == 1\n",
    "is_male.head()\n",
    "male_data = adult_data[is_male]\n"
   ]
  },
  {
   "cell_type": "code",
   "execution_count": 9,
   "metadata": {
    "scrolled": true
   },
   "outputs": [
    {
     "data": {
      "text/plain": [
       "<matplotlib.axes._subplots.AxesSubplot at 0xb8003c8>"
      ]
     },
     "execution_count": 9,
     "metadata": {},
     "output_type": "execute_result"
    },
    {
     "data": {
      "image/png": "[encoded data removed]",
      "text/plain": [
       "<Figure size 432x288 with 1 Axes>"
      ]
     },
     "metadata": {
      "needs_background": "light"
     },
     "output_type": "display_data"
    }
   ],
   "source": [
    "sns.countplot(female_data['Annual Gain'])"
   ]
  },
  {
   "cell_type": "code",
   "execution_count": 10,
   "metadata": {},
   "outputs": [],
   "source": [
    "female_1 = sum(female_data['Annual Gain']==1)\n",
    "\n",
    "female_0 = sum(female_data['Annual Gain']==0)\n",
    "\n",
    "female_ratio_high = female_1/(female_0 + female_1)\n",
    "#print('Percentual de alta renda (populacao feminina): \\n', female_ratio_high*100, '%')"
   ]
  },
  {
   "cell_type": "markdown",
   "metadata": {},
   "source": [
    "Percebemos do resultado acima que o número de indivíduos na população feminina na classe \"Alta Renda\" é inferior ao percentual da população como um todo."
   ]
  },
  {
   "cell_type": "code",
   "execution_count": 11,
   "metadata": {},
   "outputs": [
    {
     "data": {
      "text/plain": [
       "<matplotlib.axes._subplots.AxesSubplot at 0xb89c6a0>"
      ]
     },
     "execution_count": 11,
     "metadata": {},
     "output_type": "execute_result"
    },
    {
     "data": {
      "image/png": "[encoded data removed]",
      "text/plain": [
       "<Figure size 432x288 with 1 Axes>"
      ]
     },
     "metadata": {
      "needs_background": "light"
     },
     "output_type": "display_data"
    }
   ],
   "source": [
    "sns.countplot(male_data['Annual Gain'])"
   ]
  },
  {
   "cell_type": "code",
   "execution_count": 12,
   "metadata": {},
   "outputs": [
    {
     "data": {
      "text/html": [
       "<div>\n",
       "<style scoped>\n",
       "    .dataframe tbody tr th:only-of-type {\n",
       "        vertical-align: middle;\n",
       "    }\n",
       "\n",
       "    .dataframe tbody tr th {\n",
       "        vertical-align: top;\n",
       "    }\n",
       "\n",
       "    .dataframe thead th {\n",
       "        text-align: right;\n",
       "    }\n",
       "</style>\n",
       "<table border=\"1\" class=\"dataframe\">\n",
       "  <thead>\n",
       "    <tr style=\"text-align: right;\">\n",
       "      <th></th>\n",
       "      <th>Geral</th>\n",
       "      <th>Masculino</th>\n",
       "      <th>Feminino</th>\n",
       "    </tr>\n",
       "  </thead>\n",
       "  <tbody>\n",
       "    <tr>\n",
       "      <th>Alta Renda [%]</th>\n",
       "      <td>24.080955744602438</td>\n",
       "      <td>30.573657641119777</td>\n",
       "      <td>10.946058861758425</td>\n",
       "    </tr>\n",
       "  </tbody>\n",
       "</table>\n",
       "</div>"
      ],
      "text/plain": [
       "                             Geral           Masculino            Feminino\n",
       "Alta Renda [%]  24.080955744602438  30.573657641119777  10.946058861758425"
      ]
     },
     "execution_count": 12,
     "metadata": {},
     "output_type": "execute_result"
    }
   ],
   "source": [
    "male_1 = sum(male_data['Annual Gain']==1)\n",
    "\n",
    "male_0 = sum(male_data['Annual Gain']==0)\n",
    "\n",
    "male_ratio_high = male_1/(male_0 + male_1)\n",
    "#print('Percentual de alta renda (populacao masculina): \\n', male_ratio_high*100, '%')\n",
    "\n",
    "\n",
    "saida_percentual_pop = np.array([['','Geral','Masculino', 'Feminino'],\n",
    "                ['Alta Renda [%]', 100*ratio, 100*male_ratio_high, 100*female_ratio_high],])\n",
    "\n",
    "percentual_formatado = pd.DataFrame(data=saida_percentual_pop[1:,1:], index=saida_percentual_pop[1:,0], columns=saida_percentual_pop[0,1:])\n",
    "\n",
    "percentual_formatado"
   ]
  },
  {
   "cell_type": "markdown",
   "metadata": {},
   "source": [
    "O que notamos do resultado acima é uma inequidade entre indivíduos rotulados como \"Alta Renda\" nas populações masculina e feminina. Treinar um classificador da maneira tradicional, sem nenhum tratamento sobre os dados, fará com que o modelo de Aprendizado de Máquina incorpore as tendências observadas nos dados, o que pode contribuir com a acentuação da inequidade observada.\n",
    "\n",
    "Na sequência do texto, apresentamos a nossa proposta para promover a equidade na classificação."
   ]
  },
  {
   "cell_type": "markdown",
   "metadata": {},
   "source": [
    "# Metodologia \n",
    "\n",
    "Para a tarefa de classificação, empregaremos um classificador ajustado segundo o paradigma de regressão logística. Para os nossos propósitos aqui, adotaremos o atributo \"Gênero (_Sex_)\" como atributo discriminatório. Ao todo, empregaremos 3 classificadores:\n",
    "\n",
    "1) Classificador Tradicional: neste caso, faremos o treinamento sem nenhum tipo de ajuste sobre os dados.\n",
    "\n",
    "2) Classificador com Descorrelação Linear: neste segundo caso, buscaremos descorrelacionar linearmente o atributo discriminatório das classes do problema (\"Fairness Constraints: Mechanisms for Fair Classification\", Zafar, _et al._, 2017).\n",
    "\n",
    "3) Classificador com Descorrelação Não Linear: neste último caso, buscaremos a independência entre o atributo Gênero e as classe do problema, por meio da descorrelação não-linear.\n",
    "\n",
    "Apresentamos com maior detalhe o nosso _Workflow_ no diagrama a seguir:\n"
   ]
  },
  {
   "cell_type": "markdown",
   "metadata": {},
   "source": [
    "# Workflow\n",
    "\n",
    "\n",
    "![Workflow](../fig/WorkflowIA369.png)"
   ]
  },
  {
   "cell_type": "markdown",
   "metadata": {},
   "source": [
    "## Resultados\n",
    "\n",
    "Nesta seção, apresentamos nossos resultados na tarefa de classificação em termos de acurácia e equilíbrio entre os indivíduos classificados como \"Alta Renda\" nas populações masculina e feminina.\n"
   ]
  },
  {
   "cell_type": "code",
   "execution_count": 13,
   "metadata": {},
   "outputs": [],
   "source": [
    "dados_entrada = adult_data.values #converte dataframe para np array\n",
    "\n",
    "#Separacao dos dados em treinamento e teste\n",
    "percentual_teste = 0.3;\n",
    "fim_treinamento = math.floor((1-percentual_teste)*dados_entrada.shape[0]);\n",
    "\n",
    "dados_treino = dados_entrada[0:fim_treinamento+1, :];\n",
    "dados_teste = dados_entrada[fim_treinamento+1:dados_entrada.shape[0], :]\n",
    "\n",
    "entrada_treino = dados_treino[:, 0:dados_treino.shape[1]-1];\n",
    "saida_treino = dados_treino[:, dados_treino.shape[1]-1];\n",
    "saida_treino = np.reshape(saida_treino, (saida_treino.shape[0],1))\n",
    "\n",
    "entrada_teste = dados_teste[:, 0:dados_teste.shape[1]-1];\n",
    "\n",
    "saida_teste = dados_teste[:, dados_teste.shape[1]-1];\n",
    "saida_teste = np.reshape(saida_teste, (saida_teste.shape[0],1))"
   ]
  },
  {
   "cell_type": "markdown",
   "metadata": {},
   "source": [
    "#### Classificador 1"
   ]
  },
  {
   "cell_type": "code",
   "execution_count": 14,
   "metadata": {},
   "outputs": [],
   "source": [
    "MC = 100 #simulacoes de Monte Carlo\n",
    "\n",
    "acuracia_clf1 = 0;\n",
    "\n",
    "for i in range(0, MC):\n",
    "    #Classificador 1\n",
    "    clf1 = SGDClassifier(max_iter=1000, tol=1e-2)\n",
    "    clf1.fit(entrada_treino, saida_treino)\n",
    "\n",
    "    saida_pred_1 = clf1.predict(entrada_teste)\n",
    "    saida_pred_1 = np.reshape(saida_pred_1, (saida_pred_1.shape[0],1))\n",
    "\n",
    "    acuracia_clf1 = acuracia_clf1 + metrics.accuracy_score(saida_teste, saida_pred_1)\n",
    "\n",
    "#print('Acurácia Classificador 1 [%]: ', 100*acuracia_clf1/MC)"
   ]
  },
  {
   "cell_type": "markdown",
   "metadata": {},
   "source": [
    "#### Classificador 2"
   ]
  },
  {
   "cell_type": "code",
   "execution_count": 15,
   "metadata": {},
   "outputs": [],
   "source": [
    "#Classificador 2\n",
    "#Descorrelacao Linear via PCA\n",
    "\n",
    "entrada_treino_clf2 = np.copy(entrada_treino);\n",
    "aux = entrada_treino_clf2[:,8]\n",
    "aux = np.reshape(aux, (aux.shape[0],1))\n",
    "genero_modificado_treino = np.concatenate((aux, saida_treino), axis=1);\n",
    "pca = PCA(n_components=1);\n",
    "genero_modificado_treino = pca.fit_transform(genero_modificado_treino)\n",
    "entrada_treino_clf2[:,8] = genero_modificado_treino[:,0];\n",
    "\n",
    "entrada_teste_clf2 = np.copy(entrada_teste);\n",
    "aux = entrada_teste_clf2[:,8]\n",
    "aux = np.reshape(aux, (aux.shape[0],1))\n",
    "genero_modificado_teste = np.concatenate((aux, saida_teste), axis=1);\n",
    "pca = PCA(n_components=1);\n",
    "genero_modificado_teste = pca.fit_transform(genero_modificado_teste)\n",
    "entrada_teste_clf2[:,8] = genero_modificado_teste[:,0];\n",
    "\n",
    "acuracia_clf2=0;\n",
    "\n",
    "for i in range(0, MC):\n",
    "\n",
    "    clf2 = SGDClassifier(max_iter=1000, tol=1e-2)\n",
    "    clf2.fit(entrada_treino_clf2, saida_treino)\n",
    "\n",
    "    saida_pred_2 = clf2.predict(entrada_teste_clf2)\n",
    "    saida_pred_2 = np.reshape(saida_pred_2, (saida_pred_2.shape[0],1))\n",
    "\n",
    "    acuracia_clf2 = acuracia_clf2 + metrics.accuracy_score(saida_teste, saida_pred_2)\n",
    "\n",
    "#print('Acurácia Classificador 2 [%]: ', 100*acuracia_clf2/MC)\n"
   ]
  },
  {
   "cell_type": "markdown",
   "metadata": {},
   "source": [
    "#### Classificador 3"
   ]
  },
  {
   "cell_type": "code",
   "execution_count": 16,
   "metadata": {},
   "outputs": [],
   "source": [
    "#Classificador 3\n",
    "#Independencia via PCA Não Linear\n",
    "\n",
    "entrada_treino_clf3 = np.copy(entrada_treino);\n",
    "aux = np.tanh(entrada_treino_clf3[:,8]) #funcao de nao linearidade\n",
    "aux = np.reshape(aux, (aux.shape[0],1))\n",
    "genero_modificado_treino = np.concatenate((aux, saida_treino), axis=1);\n",
    "pca = PCA(n_components=1);\n",
    "genero_modificado_treino = pca.fit_transform(genero_modificado_treino)\n",
    "entrada_treino_clf3[:,8] = genero_modificado_treino[:,0];\n",
    "\n",
    "entrada_teste_clf3 = np.copy(entrada_teste);\n",
    "aux = np.tanh(entrada_teste_clf2[:,8])\n",
    "aux = np.reshape(aux, (aux.shape[0],1))\n",
    "genero_modificado_teste = np.concatenate((aux, saida_teste), axis=1);\n",
    "pca = PCA(n_components=1);\n",
    "genero_modificado_teste = pca.fit_transform(genero_modificado_teste)\n",
    "entrada_teste_clf3[:,8] = genero_modificado_teste[:,0];\n",
    "\n",
    "acuracia_clf3=0\n",
    "\n",
    "for i in range(0, MC):\n",
    "\n",
    "    clf3 = SGDClassifier(max_iter=1000, tol=1e-2)\n",
    "    clf3.fit(entrada_treino_clf2, saida_treino)\n",
    "\n",
    "    saida_pred_3 = clf3.predict(entrada_teste_clf3)\n",
    "    saida_pred_3 = np.reshape(saida_pred_3, (saida_pred_3.shape[0],1))\n",
    "\n",
    "    acuracia_clf3 = metrics.accuracy_score(saida_teste, saida_pred_3)\n",
    "\n",
    "#print('Acurácia Classificador 3 [%]: ', 100*acuracia_clf3/MC)\n"
   ]
  },
  {
   "cell_type": "code",
   "execution_count": 17,
   "metadata": {},
   "outputs": [
    {
     "data": {
      "text/html": [
       "<div>\n",
       "<style scoped>\n",
       "    .dataframe tbody tr th:only-of-type {\n",
       "        vertical-align: middle;\n",
       "    }\n",
       "\n",
       "    .dataframe tbody tr th {\n",
       "        vertical-align: top;\n",
       "    }\n",
       "\n",
       "    .dataframe thead th {\n",
       "        text-align: right;\n",
       "    }\n",
       "</style>\n",
       "<table border=\"1\" class=\"dataframe\">\n",
       "  <thead>\n",
       "    <tr style=\"text-align: right;\">\n",
       "      <th></th>\n",
       "      <th>Classificador 1</th>\n",
       "      <th>Classificador 2</th>\n",
       "      <th>Classificador 3</th>\n",
       "    </tr>\n",
       "  </thead>\n",
       "  <tbody>\n",
       "    <tr>\n",
       "      <th>Acurácia [%]</th>\n",
       "      <td>76.81449631449631</td>\n",
       "      <td>76.86179361179362</td>\n",
       "      <td>0.7484643734643734</td>\n",
       "    </tr>\n",
       "  </tbody>\n",
       "</table>\n",
       "</div>"
      ],
      "text/plain": [
       "                Classificador 1    Classificador 2     Classificador 3\n",
       "Acurácia [%]  76.81449631449631  76.86179361179362  0.7484643734643734"
      ]
     },
     "execution_count": 17,
     "metadata": {},
     "output_type": "execute_result"
    }
   ],
   "source": [
    "# Geracao da saida\n",
    "\n",
    "saida_acuracia = np.array([['','Classificador 1','Classificador 2', 'Classificador 3'],\n",
    "                ['Acurácia [%]',acuracia_clf1,acuracia_clf2, acuracia_clf3]])\n",
    "\n",
    "acuracia_formatada = pd.DataFrame(data=saida_acuracia[1:,1:], index=saida_acuracia[1:,0], columns=saida_acuracia[0,1:])\n",
    "acuracia_formatada"
   ]
  },
  {
   "cell_type": "markdown",
   "metadata": {},
   "source": [
    "Do resultado acima, notamos uma pequena perda de desempenho do Classificador 2 para o Classificador 1, em termos de acurácia. Este tipo de perda já é esperado, uma vez que ao reduzirmos a influência do atributo discriminatório sobre as classes do problema, eliminamos parte da informação de que o classificador necessita.\n",
    "\n",
    "Esta perda de informação é muito mais acentuada no Classificador 3. Como aplicamos a descorrelação não-linear, eliminamos de modo mais acentuado a influência do atributo discriminatório sobre as classes do problema, quando comparado com a redução provida pela descorrelação linear.\n",
    "\n",
    "Na sequência, vamos avaliar como cada um dos classificadores atua na promoção da equiadade. Para isso, avaliamos o percentual de indivíduos classificados como \"Alta Renda\" em cada uma das subpopulações de interesse."
   ]
  },
  {
   "cell_type": "code",
   "execution_count": 18,
   "metadata": {},
   "outputs": [
    {
     "data": {
      "text/html": [
       "<div>\n",
       "<style scoped>\n",
       "    .dataframe tbody tr th:only-of-type {\n",
       "        vertical-align: middle;\n",
       "    }\n",
       "\n",
       "    .dataframe tbody tr th {\n",
       "        vertical-align: top;\n",
       "    }\n",
       "\n",
       "    .dataframe thead th {\n",
       "        text-align: right;\n",
       "    }\n",
       "</style>\n",
       "<table border=\"1\" class=\"dataframe\">\n",
       "  <thead>\n",
       "    <tr style=\"text-align: right;\">\n",
       "      <th></th>\n",
       "      <th>Classificador 1</th>\n",
       "      <th>Classificador 2</th>\n",
       "      <th>Classificador 3</th>\n",
       "    </tr>\n",
       "  </thead>\n",
       "  <tbody>\n",
       "    <tr>\n",
       "      <th>Pop. Masculina [%]</th>\n",
       "      <td>28.992628992628994</td>\n",
       "      <td>29.65806715806716</td>\n",
       "      <td>27.21130221130221</td>\n",
       "    </tr>\n",
       "    <tr>\n",
       "      <th>Pop. Feminina [%]</th>\n",
       "      <td>4.565929565929566</td>\n",
       "      <td>7.125307125307126</td>\n",
       "      <td>6.664619164619165</td>\n",
       "    </tr>\n",
       "  </tbody>\n",
       "</table>\n",
       "</div>"
      ],
      "text/plain": [
       "                       Classificador 1    Classificador 2    Classificador 3\n",
       "Pop. Masculina [%]  28.992628992628994  29.65806715806716  27.21130221130221\n",
       "Pop. Feminina [%]    4.565929565929566  7.125307125307126  6.664619164619165"
      ]
     },
     "execution_count": 18,
     "metadata": {},
     "output_type": "execute_result"
    }
   ],
   "source": [
    "#Calculo das taxas em cada uma das subpopulacoes\n",
    "\n",
    "indice_masc = entrada_teste[:,8]==1\n",
    "indice_fem = entrada_teste[:,8]==0\n",
    "\n",
    "saida_pred_1_masc = saida_pred_1[indice_masc]\n",
    "saida_pred_1_fem = saida_pred_1[indice_fem]\n",
    "tam_populacao = saida_pred_1.shape[0]\n",
    "total_masc_1 = sum(saida_pred_1_masc)\n",
    "total_fem_1 = sum(saida_pred_1_fem)\n",
    "taxa_masc_cl1 = total_masc_1/tam_populacao\n",
    "taxa_masc_cl1 = 100*taxa_masc_cl1[0]\n",
    "taxa_fem_cl1 = total_fem_1/tam_populacao\n",
    "taxa_fem_cl1 = 100*taxa_fem_cl1[0]\n",
    "\n",
    "saida_pred_2_masc = saida_pred_2[indice_masc]\n",
    "saida_pred_2_fem = saida_pred_2[indice_fem]\n",
    "total_masc_2 = sum(saida_pred_2_masc)\n",
    "total_fem_2 = sum(saida_pred_2_fem)\n",
    "taxa_masc_cl2 = total_masc_2/tam_populacao\n",
    "taxa_masc_cl2 = 100*taxa_masc_cl2[0]\n",
    "taxa_fem_cl2 = total_fem_2/tam_populacao\n",
    "taxa_fem_cl2 = 100*taxa_fem_cl2[0]\n",
    "\n",
    "saida_pred_3_masc = saida_pred_3[indice_masc]\n",
    "saida_pred_3_fem = saida_pred_3[indice_fem]\n",
    "total_masc_3 = sum(saida_pred_3_masc)\n",
    "total_fem_3 = sum(saida_pred_3_fem)\n",
    "taxa_masc_cl3 = total_masc_3/tam_populacao\n",
    "taxa_masc_cl3 = 100*taxa_masc_cl3[0]\n",
    "taxa_fem_cl3 = total_fem_3/tam_populacao\n",
    "taxa_fem_cl3 = 100*taxa_fem_cl3[0]\n",
    "\n",
    "\n",
    "saida_taxa = np.array([['','Classificador 1','Classificador 2', 'Classificador 3'],\n",
    "                ['Pop. Masculina [%]',taxa_masc_cl1, taxa_masc_cl2, taxa_masc_cl3],\n",
    "                ['Pop. Feminina [%]', taxa_fem_cl1,  taxa_fem_cl2,  taxa_fem_cl3]])\n",
    "\n",
    "taxa_formatada = pd.DataFrame(data=saida_taxa[1:,1:], index=saida_taxa[1:,0], columns=saida_taxa[0,1:])\n",
    "taxa_formatada\n"
   ]
  },
  {
   "cell_type": "markdown",
   "metadata": {},
   "source": [
    "Da tabela acima, notamos que o Classificador 2, apesar de ter uma acurácia inferior à do Classificador 1, teve um pequeno avanço em direção à equidade, uma vez que houve uma redução no percentual de indivíduos da população masculina classificados como \"Alta Renda\" e um acréscimo desta mesma categoria na população feminina. \n",
    "\n",
    "Já no caso do Classificador 3, notamos um acréscimo de indivíduos pertencentes à classe \"Alta Renda\" nas duas subpopulações, o que não caminha em direção à equidade. \n",
    "\n",
    "Para o cenário que estudamos, ambas as estratégias para mitigar o efeito do atributo discriminatório levaram a uma queda da acurácia, como esperado. Contudo, a decorrelação linear permitiu avanços em direção à equidade, algo que não observamos na versão não linear (Classificador 3)."
   ]
  },
  {
   "cell_type": "markdown",
   "metadata": {},
   "source": [
    "## Conclusões\n",
    "\n",
    "Neste trabalho avaliamos como algumas das técnicas de ICA, _i.e_, descorrelação linear e descorrelação não-linear, podem ser usadas para promover a equidade na tarefa de classificação. Para o caso particular que estudamos, ambas as técnicas levaram a uma redução de acurácia nos classificadores. Contudo, a descorrelação linear levou a uma pequena aproximação entre as populações masculina e feminina, em termos de indivíduos classificados como \"Alta Renda\". Não observamos a mesma aproximação para quando empregamos a descorrelação não-linear."
   ]
  }
 ],
 "metadata": {
  "kernelspec": {
   "display_name": "Python 3",
   "language": "python",
   "name": "python3"
  },
  "language_info": {
   "codemirror_mode": {
    "name": "ipython",
    "version": 3
   },
   "file_extension": ".py",
   "mimetype": "text/x-python",
   "name": "python",
   "nbconvert_exporter": "python",
   "pygments_lexer": "ipython3",
   "version": "3.7.1"
  }
 },
 "nbformat": 4,
 "nbformat_minor": 2
}
