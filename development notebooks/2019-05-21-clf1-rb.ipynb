{
 "cells": [
  {
   "cell_type": "markdown",
   "metadata": {},
   "source": [
    "# <h1><center>Equidade em Aprendizado de Máquina</center></h1>\n",
    "\n",
    "## Renan Del Buono Brotto\n",
    "\n",
    "## Introdução\n",
    "\n",
    "As técnicas de Aprendizado de Máquina estão em rápida ascensão em diversas áreas, como processamento de linguagem natural  e reconhecimento de fala \\cite{Kamath2019}, processamento de imagem \\cite{Cipolla2013}, problemas de classificação \\cite{Duda2000}, reconhecimento de padrões \\cite{Bishop2006} entre outras. \n",
    "\n",
    "O objetivo central do Aprendizado de Máquina é projetar modelos computacionais capazes de aprender uma determinada tarefa a partir de dados, sem que exista uma programação específica para a tarefa em questão \\cite{Samuel1959}. Para tanto, apresentamos um conjunto de dados disponíveis, denominado conjunto de treinamento, a fim de que o modelo capture as informações relevantes para o problema investigado \\cite{Hastie2009}. \n",
    "\n",
    "Além de ter um bom desempenho, segundo uma métrica adequada, frente aos dados de treinamento, o modelo ajustado deve ser capaz de apresentar um bom desempenho frente a dados desconhecidos, pertencentes a um conjunto normalmente denominado conjunto de teste. Este segundo requisito configura a capacidade de generalização do modelo \\cite{Bishop2006}, \\cite{haykin-rn}.\n",
    "\n",
    "Contudo, durante o processo de aprendizagem, o modelo pode capturar informações irrelevantes, ou mesmo indesejadas, para a tarefa considerada, configurando uma situação de sobreajuste \\cite{haykin-rn}. Neste tipo de situação, temos um bom desempenho frente ao conjunto de treinamento, mas o modelo se comporta mal quando avaliado frente a novos dados \\cite{Bishop2006}. Dentre as informações indesejadas aprendidas, podemos citar ruído presente sobre os dados \\cite{Bishop2006} ou mesmo algum tipo de viés apresentado nos dados de treinamento.\n",
    "\n",
    "O viés contido nos dados de treinamento desempenha um papel fundamental quando aplicamos os modelos de Aprendizado de Máquina em tarefas com impacto social direto, tais como concessão de crédito (colocar ref.), aprovação em universidades (colocar ref.) ou a concessão de liberdade condicional (colocar ref.). Neste tipo de problema as técnicas clássicas de aprendizado incorporam as tendências observadas nos dados, o que pode dar origem a atributos discriminativos, como por exemplo o gênero em um problema de concessão de crédito ou a etnia em um problema de concessão de liberdade condicional. Uma vez aprendida esta característica, o modelo ajustado passa a produzir resultados que podem contribuir ainda mais com a disparidade do problema \\cite{ONeil2016}.\n",
    "\n",
    "\n"
   ]
  },
  {
   "cell_type": "markdown",
   "metadata": {},
   "source": [
    "# Descrição do Dataset\n",
    "\n",
    "\n",
    "Conjunto de dados: Adult Data Set (Disponível em: http://archive.ics.uci.edu/ml/datasets/adult e de domínio público). Este conjunto de dados é formado por 14 atributos, tanto categóricos quanto atributos numéricos, anonimizado. Dentre estes atributos temos idade, tipo de trabalho, gênero, etnia, estado civil, horas trabalhadas por semana entre outros. Para cada indivíduo do conjunto de dados, temos um rótulo, indicando uma renda anual superior (igual) a $50 k ou inferior a este limiar.\n",
    "\n",
    "Como muitos dos atribuitos são categóricos, vamos convertê-los para atributos numéricos.\n"
   ]
  },
  {
   "cell_type": "code",
   "execution_count": 1,
   "metadata": {
    "scrolled": true
   },
   "outputs": [],
   "source": [
    "import numpy as np\n",
    "import pandas as pd\n",
    "from sklearn import preprocessing\n",
    "from sklearn import metrics\n",
    "from sklearn.decomposition import PCA\n",
    "from sklearn.linear_model import SGDClassifier\n",
    "import sklearn as sk\n",
    "import seaborn as sns\n",
    "import math\n",
    "import os\n",
    "import warnings\n",
    "warnings.filterwarnings('ignore')\n"
   ]
  },
  {
   "cell_type": "code",
   "execution_count": 2,
   "metadata": {
    "scrolled": true
   },
   "outputs": [],
   "source": [
    "def add_header(header, file, output_name):\n",
    "    #function to add a header to a csv file\n",
    "    import csv\n",
    "    \n",
    "    with open(file, 'rt') as input_file:\n",
    "        reader = csv.reader(input_file)\n",
    "        data_list = list(reader)\n",
    "    \n",
    "    with open(output_name, 'wt', newline ='') as output_file:\n",
    "        writer = csv.writer(output_file, delimiter=',')\n",
    "        writer.writerow(i for i in header)\n",
    "        for j in data_list:\n",
    "            writer.writerow(j)      "
   ]
  },
  {
   "cell_type": "code",
   "execution_count": 3,
   "metadata": {
    "scrolled": true
   },
   "outputs": [],
   "source": [
    "# Adicionando cabecalho aos dados\n",
    "\n",
    "header = [\"Age\", \"Workclass\", \"Fnlwgt\", \"Education\", \"Education-num\", \"Marital Status\", \"Occupation\", \"Relationship\", \"Race\", \"Sex\", \"Capital Gain\", \"Capital Loss\", \"Hours per Week\", \"Native Country\", \"Annual Gain\"]\n",
    "file = \"../data/adult-data.csv\"\n",
    "output_name = \"../data/adultdataset.csv\"\n",
    "add_header(header, file, output_name)"
   ]
  },
  {
   "cell_type": "code",
   "execution_count": 4,
   "metadata": {
    "scrolled": true
   },
   "outputs": [
    {
     "data": {
      "text/html": [
       "<div>\n",
       "<style scoped>\n",
       "    .dataframe tbody tr th:only-of-type {\n",
       "        vertical-align: middle;\n",
       "    }\n",
       "\n",
       "    .dataframe tbody tr th {\n",
       "        vertical-align: top;\n",
       "    }\n",
       "\n",
       "    .dataframe thead th {\n",
       "        text-align: right;\n",
       "    }\n",
       "</style>\n",
       "<table border=\"1\" class=\"dataframe\">\n",
       "  <thead>\n",
       "    <tr style=\"text-align: right;\">\n",
       "      <th></th>\n",
       "      <th>Age</th>\n",
       "      <th>Workclass</th>\n",
       "      <th>Education</th>\n",
       "      <th>Education-num</th>\n",
       "      <th>Marital Status</th>\n",
       "      <th>Occupation</th>\n",
       "      <th>Relationship</th>\n",
       "      <th>Race</th>\n",
       "      <th>Sex</th>\n",
       "      <th>Capital Gain</th>\n",
       "      <th>Capital Loss</th>\n",
       "      <th>Hours per Week</th>\n",
       "      <th>Native Country</th>\n",
       "      <th>Annual Gain</th>\n",
       "    </tr>\n",
       "  </thead>\n",
       "  <tbody>\n",
       "    <tr>\n",
       "      <th>0</th>\n",
       "      <td>39</td>\n",
       "      <td>State-gov</td>\n",
       "      <td>Bachelors</td>\n",
       "      <td>13</td>\n",
       "      <td>Never-married</td>\n",
       "      <td>Adm-clerical</td>\n",
       "      <td>Not-in-family</td>\n",
       "      <td>White</td>\n",
       "      <td>Male</td>\n",
       "      <td>2174</td>\n",
       "      <td>0</td>\n",
       "      <td>40</td>\n",
       "      <td>United-States</td>\n",
       "      <td>&lt;=50K</td>\n",
       "    </tr>\n",
       "    <tr>\n",
       "      <th>1</th>\n",
       "      <td>50</td>\n",
       "      <td>Self-emp-not-inc</td>\n",
       "      <td>Bachelors</td>\n",
       "      <td>13</td>\n",
       "      <td>Married-civ-spouse</td>\n",
       "      <td>Exec-managerial</td>\n",
       "      <td>Husband</td>\n",
       "      <td>White</td>\n",
       "      <td>Male</td>\n",
       "      <td>0</td>\n",
       "      <td>0</td>\n",
       "      <td>13</td>\n",
       "      <td>United-States</td>\n",
       "      <td>&lt;=50K</td>\n",
       "    </tr>\n",
       "    <tr>\n",
       "      <th>2</th>\n",
       "      <td>38</td>\n",
       "      <td>Private</td>\n",
       "      <td>HS-grad</td>\n",
       "      <td>9</td>\n",
       "      <td>Divorced</td>\n",
       "      <td>Handlers-cleaners</td>\n",
       "      <td>Not-in-family</td>\n",
       "      <td>White</td>\n",
       "      <td>Male</td>\n",
       "      <td>0</td>\n",
       "      <td>0</td>\n",
       "      <td>40</td>\n",
       "      <td>United-States</td>\n",
       "      <td>&lt;=50K</td>\n",
       "    </tr>\n",
       "    <tr>\n",
       "      <th>3</th>\n",
       "      <td>53</td>\n",
       "      <td>Private</td>\n",
       "      <td>11th</td>\n",
       "      <td>7</td>\n",
       "      <td>Married-civ-spouse</td>\n",
       "      <td>Handlers-cleaners</td>\n",
       "      <td>Husband</td>\n",
       "      <td>Black</td>\n",
       "      <td>Male</td>\n",
       "      <td>0</td>\n",
       "      <td>0</td>\n",
       "      <td>40</td>\n",
       "      <td>United-States</td>\n",
       "      <td>&lt;=50K</td>\n",
       "    </tr>\n",
       "    <tr>\n",
       "      <th>4</th>\n",
       "      <td>28</td>\n",
       "      <td>Private</td>\n",
       "      <td>Bachelors</td>\n",
       "      <td>13</td>\n",
       "      <td>Married-civ-spouse</td>\n",
       "      <td>Prof-specialty</td>\n",
       "      <td>Wife</td>\n",
       "      <td>Black</td>\n",
       "      <td>Female</td>\n",
       "      <td>0</td>\n",
       "      <td>0</td>\n",
       "      <td>40</td>\n",
       "      <td>Cuba</td>\n",
       "      <td>&lt;=50K</td>\n",
       "    </tr>\n",
       "  </tbody>\n",
       "</table>\n",
       "</div>"
      ],
      "text/plain": [
       "   Age          Workclass   Education  Education-num       Marital Status  \\\n",
       "0   39          State-gov   Bachelors             13        Never-married   \n",
       "1   50   Self-emp-not-inc   Bachelors             13   Married-civ-spouse   \n",
       "2   38            Private     HS-grad              9             Divorced   \n",
       "3   53            Private        11th              7   Married-civ-spouse   \n",
       "4   28            Private   Bachelors             13   Married-civ-spouse   \n",
       "\n",
       "           Occupation    Relationship    Race      Sex  Capital Gain  \\\n",
       "0        Adm-clerical   Not-in-family   White     Male          2174   \n",
       "1     Exec-managerial         Husband   White     Male             0   \n",
       "2   Handlers-cleaners   Not-in-family   White     Male             0   \n",
       "3   Handlers-cleaners         Husband   Black     Male             0   \n",
       "4      Prof-specialty            Wife   Black   Female             0   \n",
       "\n",
       "   Capital Loss  Hours per Week  Native Country Annual Gain  \n",
       "0             0              40   United-States       <=50K  \n",
       "1             0              13   United-States       <=50K  \n",
       "2             0              40   United-States       <=50K  \n",
       "3             0              40   United-States       <=50K  \n",
       "4             0              40            Cuba       <=50K  "
      ]
     },
     "execution_count": 4,
     "metadata": {},
     "output_type": "execute_result"
    }
   ],
   "source": [
    "#Abrindo o conjunto de dados\n",
    "adult_data = pd.read_csv(\"../data/adultdataset.csv\", sep=',')\n",
    "\n",
    "#Selecao de atributos\n",
    "adult_data = adult_data.drop(columns=['Fnlwgt'])\n",
    "\n",
    "adult_data.head()\n"
   ]
  },
  {
   "cell_type": "code",
   "execution_count": 5,
   "metadata": {
    "scrolled": true
   },
   "outputs": [
    {
     "data": {
      "text/html": [
       "<div>\n",
       "<style scoped>\n",
       "    .dataframe tbody tr th:only-of-type {\n",
       "        vertical-align: middle;\n",
       "    }\n",
       "\n",
       "    .dataframe tbody tr th {\n",
       "        vertical-align: top;\n",
       "    }\n",
       "\n",
       "    .dataframe thead th {\n",
       "        text-align: right;\n",
       "    }\n",
       "</style>\n",
       "<table border=\"1\" class=\"dataframe\">\n",
       "  <thead>\n",
       "    <tr style=\"text-align: right;\">\n",
       "      <th></th>\n",
       "      <th>Age</th>\n",
       "      <th>Workclass</th>\n",
       "      <th>Education</th>\n",
       "      <th>Education-num</th>\n",
       "      <th>Marital Status</th>\n",
       "      <th>Occupation</th>\n",
       "      <th>Relationship</th>\n",
       "      <th>Race</th>\n",
       "      <th>Sex</th>\n",
       "      <th>Capital Gain</th>\n",
       "      <th>Capital Loss</th>\n",
       "      <th>Hours per Week</th>\n",
       "      <th>Native Country</th>\n",
       "      <th>Annual Gain</th>\n",
       "    </tr>\n",
       "  </thead>\n",
       "  <tbody>\n",
       "    <tr>\n",
       "      <th>0</th>\n",
       "      <td>39</td>\n",
       "      <td>7</td>\n",
       "      <td>9</td>\n",
       "      <td>13</td>\n",
       "      <td>4</td>\n",
       "      <td>1</td>\n",
       "      <td>1</td>\n",
       "      <td>4</td>\n",
       "      <td>1</td>\n",
       "      <td>2174</td>\n",
       "      <td>0</td>\n",
       "      <td>40</td>\n",
       "      <td>39</td>\n",
       "      <td>0</td>\n",
       "    </tr>\n",
       "    <tr>\n",
       "      <th>1</th>\n",
       "      <td>50</td>\n",
       "      <td>6</td>\n",
       "      <td>9</td>\n",
       "      <td>13</td>\n",
       "      <td>2</td>\n",
       "      <td>4</td>\n",
       "      <td>0</td>\n",
       "      <td>4</td>\n",
       "      <td>1</td>\n",
       "      <td>0</td>\n",
       "      <td>0</td>\n",
       "      <td>13</td>\n",
       "      <td>39</td>\n",
       "      <td>0</td>\n",
       "    </tr>\n",
       "    <tr>\n",
       "      <th>2</th>\n",
       "      <td>38</td>\n",
       "      <td>4</td>\n",
       "      <td>11</td>\n",
       "      <td>9</td>\n",
       "      <td>0</td>\n",
       "      <td>6</td>\n",
       "      <td>1</td>\n",
       "      <td>4</td>\n",
       "      <td>1</td>\n",
       "      <td>0</td>\n",
       "      <td>0</td>\n",
       "      <td>40</td>\n",
       "      <td>39</td>\n",
       "      <td>0</td>\n",
       "    </tr>\n",
       "    <tr>\n",
       "      <th>3</th>\n",
       "      <td>53</td>\n",
       "      <td>4</td>\n",
       "      <td>1</td>\n",
       "      <td>7</td>\n",
       "      <td>2</td>\n",
       "      <td>6</td>\n",
       "      <td>0</td>\n",
       "      <td>2</td>\n",
       "      <td>1</td>\n",
       "      <td>0</td>\n",
       "      <td>0</td>\n",
       "      <td>40</td>\n",
       "      <td>39</td>\n",
       "      <td>0</td>\n",
       "    </tr>\n",
       "    <tr>\n",
       "      <th>4</th>\n",
       "      <td>28</td>\n",
       "      <td>4</td>\n",
       "      <td>9</td>\n",
       "      <td>13</td>\n",
       "      <td>2</td>\n",
       "      <td>10</td>\n",
       "      <td>5</td>\n",
       "      <td>2</td>\n",
       "      <td>0</td>\n",
       "      <td>0</td>\n",
       "      <td>0</td>\n",
       "      <td>40</td>\n",
       "      <td>5</td>\n",
       "      <td>0</td>\n",
       "    </tr>\n",
       "  </tbody>\n",
       "</table>\n",
       "</div>"
      ],
      "text/plain": [
       "   Age  Workclass  Education  Education-num  Marital Status  Occupation  \\\n",
       "0   39          7          9             13               4           1   \n",
       "1   50          6          9             13               2           4   \n",
       "2   38          4         11              9               0           6   \n",
       "3   53          4          1              7               2           6   \n",
       "4   28          4          9             13               2          10   \n",
       "\n",
       "   Relationship  Race  Sex  Capital Gain  Capital Loss  Hours per Week  \\\n",
       "0             1     4    1          2174             0              40   \n",
       "1             0     4    1             0             0              13   \n",
       "2             1     4    1             0             0              40   \n",
       "3             0     2    1             0             0              40   \n",
       "4             5     2    0             0             0              40   \n",
       "\n",
       "   Native Country  Annual Gain  \n",
       "0              39            0  \n",
       "1              39            0  \n",
       "2              39            0  \n",
       "3              39            0  \n",
       "4               5            0  "
      ]
     },
     "execution_count": 5,
     "metadata": {},
     "output_type": "execute_result"
    }
   ],
   "source": [
    "# Conversão dos atributos categóricos em atributos numéricos\n",
    "le = preprocessing.LabelEncoder()\n",
    "le.fit(adult_data['Annual Gain'])\n",
    "le.classes_\n",
    "adult_data['Annual Gain'] = le.transform(adult_data['Annual Gain'])\n",
    "\n",
    "le = preprocessing.LabelEncoder()\n",
    "le.fit(adult_data['Workclass'])\n",
    "le.classes_\n",
    "adult_data['Workclass'] = le.transform(adult_data['Workclass'])\n",
    "adult_data.head(10)\n",
    "\n",
    "le = preprocessing.LabelEncoder()\n",
    "le.fit(adult_data['Education'])\n",
    "le.classes_\n",
    "adult_data['Education'] = le.transform(adult_data['Education'])\n",
    "\n",
    "le = preprocessing.LabelEncoder()\n",
    "le.fit(adult_data['Marital Status'])\n",
    "le.classes_\n",
    "adult_data['Marital Status'] = le.transform(adult_data['Marital Status'])\n",
    "\n",
    "le = preprocessing.LabelEncoder()\n",
    "le.fit(adult_data['Occupation'])\n",
    "le.classes_\n",
    "adult_data['Occupation'] = le.transform(adult_data['Occupation'])\n",
    "\n",
    "le = preprocessing.LabelEncoder()\n",
    "le.fit(adult_data['Relationship'])\n",
    "le.classes_\n",
    "adult_data['Relationship'] = le.transform(adult_data['Relationship'])\n",
    "\n",
    "le = preprocessing.LabelEncoder()\n",
    "le.fit(adult_data['Race'])\n",
    "le.classes_\n",
    "adult_data['Race'] = le.transform(adult_data['Race'])\n",
    "\n",
    "le = preprocessing.LabelEncoder()\n",
    "le.fit(adult_data['Sex'])\n",
    "le.classes_\n",
    "adult_data['Sex'] = le.transform(adult_data['Sex'])\n",
    "\n",
    "le = preprocessing.LabelEncoder()\n",
    "le.fit(adult_data['Native Country'])\n",
    "le.classes_\n",
    "adult_data['Native Country'] = le.transform(adult_data['Native Country'])\n",
    "\n",
    "adult_data.head()\n"
   ]
  },
  {
   "cell_type": "markdown",
   "metadata": {},
   "source": [
    "Contudo, existe uma inequidade entre a distribuição de indivíduos de \"Alta Renda (1)\" e \"Baixa Renda (0)\" entre as populações masculina e feminina, bem como entre a população branca e não-branca. \n"
   ]
  },
  {
   "cell_type": "markdown",
   "metadata": {},
   "source": [
    "## População Completa\n",
    "\n",
    "Vamos agora, visualizar um pouco os dados. Inicialmente, vamos analisar a proporção de indivíduos com alta renda (>= 50K) na população completa."
   ]
  },
  {
   "cell_type": "code",
   "execution_count": 6,
   "metadata": {
    "scrolled": true
   },
   "outputs": [
    {
     "name": "stdout",
     "output_type": "stream",
     "text": [
      "Percentual de alta renda (populacao completa): \n",
      " 24.080955744602438 %\n"
     ]
    },
    {
     "data": {
      "image/png": "[encoded data removed]",
      "text/plain": [
       "<Figure size 432x288 with 1 Axes>"
      ]
     },
     "metadata": {
      "needs_background": "light"
     },
     "output_type": "display_data"
    }
   ],
   "source": [
    "sns.countplot(adult_data['Annual Gain'])\n",
    "\n",
    "adult_1 = sum(adult_data['Annual Gain']==1)\n",
    "\n",
    "adult_0 = sum(adult_data['Annual Gain']==0)\n",
    "\n",
    "ratio = adult_1/(adult_0 + adult_1)\n",
    "print('Percentual de alta renda (populacao completa): \\n', ratio*100, '%')"
   ]
  },
  {
   "cell_type": "markdown",
   "metadata": {},
   "source": [
    "Vamos agora repetir a mesma análise entre as populações masculina e feminina.\n",
    "## Análise das Populações Masculina e Feminina"
   ]
  },
  {
   "cell_type": "code",
   "execution_count": 7,
   "metadata": {
    "scrolled": true
   },
   "outputs": [
    {
     "name": "stdout",
     "output_type": "stream",
     "text": [
      "Percentual de homens na população: \n",
      " 66.92054912318419 %\n",
      "Percentual de mulheres na população: \n",
      " 33.07945087681583 %\n"
     ]
    },
    {
     "data": {
      "image/png": "[encoded data removed]",
      "text/plain": [
       "<Figure size 432x288 with 1 Axes>"
      ]
     },
     "metadata": {
      "needs_background": "light"
     },
     "output_type": "display_data"
    }
   ],
   "source": [
    "sns.countplot(adult_data['Sex'])\n",
    "\n",
    "num_male = sum(adult_data['Sex']== 1)\n",
    "\n",
    "num_female = sum(adult_data['Sex']== 0)\n",
    "\n",
    "male_ratio = num_male/(num_male+num_female)\n",
    "female_ratio = num_female/(num_male+num_female)\n",
    "\n",
    "print('Percentual de homens na população: \\n', male_ratio*100, '%')\n",
    "print('Percentual de mulheres na população: \\n', female_ratio*100, '%')"
   ]
  },
  {
   "cell_type": "markdown",
   "metadata": {},
   "source": [
    "Do gráfico acima, podemos notar que existe um número consideravelmente de dados referentes a homens na população do que o número de dados associados. Em um paradigma tradicional de Aprendizado de Máquina, um número maior de padrões de entrada relacionado a homens será apresentado ao modelo, o que pode polarizar a tarefa de classificação."
   ]
  },
  {
   "cell_type": "code",
   "execution_count": 8,
   "metadata": {
    "scrolled": true
   },
   "outputs": [
    {
     "data": {
      "text/html": [
       "<div>\n",
       "<style scoped>\n",
       "    .dataframe tbody tr th:only-of-type {\n",
       "        vertical-align: middle;\n",
       "    }\n",
       "\n",
       "    .dataframe tbody tr th {\n",
       "        vertical-align: top;\n",
       "    }\n",
       "\n",
       "    .dataframe thead th {\n",
       "        text-align: right;\n",
       "    }\n",
       "</style>\n",
       "<table border=\"1\" class=\"dataframe\">\n",
       "  <thead>\n",
       "    <tr style=\"text-align: right;\">\n",
       "      <th></th>\n",
       "      <th>Age</th>\n",
       "      <th>Workclass</th>\n",
       "      <th>Education</th>\n",
       "      <th>Education-num</th>\n",
       "      <th>Marital Status</th>\n",
       "      <th>Occupation</th>\n",
       "      <th>Relationship</th>\n",
       "      <th>Race</th>\n",
       "      <th>Sex</th>\n",
       "      <th>Capital Gain</th>\n",
       "      <th>Capital Loss</th>\n",
       "      <th>Hours per Week</th>\n",
       "      <th>Native Country</th>\n",
       "      <th>Annual Gain</th>\n",
       "    </tr>\n",
       "  </thead>\n",
       "  <tbody>\n",
       "    <tr>\n",
       "      <th>4</th>\n",
       "      <td>28</td>\n",
       "      <td>4</td>\n",
       "      <td>9</td>\n",
       "      <td>13</td>\n",
       "      <td>2</td>\n",
       "      <td>10</td>\n",
       "      <td>5</td>\n",
       "      <td>2</td>\n",
       "      <td>0</td>\n",
       "      <td>0</td>\n",
       "      <td>0</td>\n",
       "      <td>40</td>\n",
       "      <td>5</td>\n",
       "      <td>0</td>\n",
       "    </tr>\n",
       "    <tr>\n",
       "      <th>5</th>\n",
       "      <td>37</td>\n",
       "      <td>4</td>\n",
       "      <td>12</td>\n",
       "      <td>14</td>\n",
       "      <td>2</td>\n",
       "      <td>4</td>\n",
       "      <td>5</td>\n",
       "      <td>4</td>\n",
       "      <td>0</td>\n",
       "      <td>0</td>\n",
       "      <td>0</td>\n",
       "      <td>40</td>\n",
       "      <td>39</td>\n",
       "      <td>0</td>\n",
       "    </tr>\n",
       "    <tr>\n",
       "      <th>6</th>\n",
       "      <td>49</td>\n",
       "      <td>4</td>\n",
       "      <td>6</td>\n",
       "      <td>5</td>\n",
       "      <td>3</td>\n",
       "      <td>8</td>\n",
       "      <td>1</td>\n",
       "      <td>2</td>\n",
       "      <td>0</td>\n",
       "      <td>0</td>\n",
       "      <td>0</td>\n",
       "      <td>16</td>\n",
       "      <td>23</td>\n",
       "      <td>0</td>\n",
       "    </tr>\n",
       "    <tr>\n",
       "      <th>8</th>\n",
       "      <td>31</td>\n",
       "      <td>4</td>\n",
       "      <td>12</td>\n",
       "      <td>14</td>\n",
       "      <td>4</td>\n",
       "      <td>10</td>\n",
       "      <td>1</td>\n",
       "      <td>4</td>\n",
       "      <td>0</td>\n",
       "      <td>14084</td>\n",
       "      <td>0</td>\n",
       "      <td>50</td>\n",
       "      <td>39</td>\n",
       "      <td>1</td>\n",
       "    </tr>\n",
       "    <tr>\n",
       "      <th>12</th>\n",
       "      <td>23</td>\n",
       "      <td>4</td>\n",
       "      <td>9</td>\n",
       "      <td>13</td>\n",
       "      <td>4</td>\n",
       "      <td>1</td>\n",
       "      <td>3</td>\n",
       "      <td>4</td>\n",
       "      <td>0</td>\n",
       "      <td>0</td>\n",
       "      <td>0</td>\n",
       "      <td>30</td>\n",
       "      <td>39</td>\n",
       "      <td>0</td>\n",
       "    </tr>\n",
       "  </tbody>\n",
       "</table>\n",
       "</div>"
      ],
      "text/plain": [
       "    Age  Workclass  Education  Education-num  Marital Status  Occupation  \\\n",
       "4    28          4          9             13               2          10   \n",
       "5    37          4         12             14               2           4   \n",
       "6    49          4          6              5               3           8   \n",
       "8    31          4         12             14               4          10   \n",
       "12   23          4          9             13               4           1   \n",
       "\n",
       "    Relationship  Race  Sex  Capital Gain  Capital Loss  Hours per Week  \\\n",
       "4              5     2    0             0             0              40   \n",
       "5              5     4    0             0             0              40   \n",
       "6              1     2    0             0             0              16   \n",
       "8              1     4    0         14084             0              50   \n",
       "12             3     4    0             0             0              30   \n",
       "\n",
       "    Native Country  Annual Gain  \n",
       "4                5            0  \n",
       "5               39            0  \n",
       "6               23            0  \n",
       "8               39            1  \n",
       "12              39            0  "
      ]
     },
     "execution_count": 8,
     "metadata": {},
     "output_type": "execute_result"
    }
   ],
   "source": [
    "# Populacao Feminina\n",
    "is_female = adult_data.Sex == 0\n",
    "is_female.head()\n",
    "female_data = adult_data[is_female]\n",
    "female_data.head()"
   ]
  },
  {
   "cell_type": "code",
   "execution_count": 9,
   "metadata": {},
   "outputs": [
    {
     "data": {
      "text/html": [
       "<div>\n",
       "<style scoped>\n",
       "    .dataframe tbody tr th:only-of-type {\n",
       "        vertical-align: middle;\n",
       "    }\n",
       "\n",
       "    .dataframe tbody tr th {\n",
       "        vertical-align: top;\n",
       "    }\n",
       "\n",
       "    .dataframe thead th {\n",
       "        text-align: right;\n",
       "    }\n",
       "</style>\n",
       "<table border=\"1\" class=\"dataframe\">\n",
       "  <thead>\n",
       "    <tr style=\"text-align: right;\">\n",
       "      <th></th>\n",
       "      <th>Age</th>\n",
       "      <th>Workclass</th>\n",
       "      <th>Education</th>\n",
       "      <th>Education-num</th>\n",
       "      <th>Marital Status</th>\n",
       "      <th>Occupation</th>\n",
       "      <th>Relationship</th>\n",
       "      <th>Race</th>\n",
       "      <th>Sex</th>\n",
       "      <th>Capital Gain</th>\n",
       "      <th>Capital Loss</th>\n",
       "      <th>Hours per Week</th>\n",
       "      <th>Native Country</th>\n",
       "      <th>Annual Gain</th>\n",
       "    </tr>\n",
       "  </thead>\n",
       "  <tbody>\n",
       "    <tr>\n",
       "      <th>0</th>\n",
       "      <td>39</td>\n",
       "      <td>7</td>\n",
       "      <td>9</td>\n",
       "      <td>13</td>\n",
       "      <td>4</td>\n",
       "      <td>1</td>\n",
       "      <td>1</td>\n",
       "      <td>4</td>\n",
       "      <td>1</td>\n",
       "      <td>2174</td>\n",
       "      <td>0</td>\n",
       "      <td>40</td>\n",
       "      <td>39</td>\n",
       "      <td>0</td>\n",
       "    </tr>\n",
       "    <tr>\n",
       "      <th>1</th>\n",
       "      <td>50</td>\n",
       "      <td>6</td>\n",
       "      <td>9</td>\n",
       "      <td>13</td>\n",
       "      <td>2</td>\n",
       "      <td>4</td>\n",
       "      <td>0</td>\n",
       "      <td>4</td>\n",
       "      <td>1</td>\n",
       "      <td>0</td>\n",
       "      <td>0</td>\n",
       "      <td>13</td>\n",
       "      <td>39</td>\n",
       "      <td>0</td>\n",
       "    </tr>\n",
       "    <tr>\n",
       "      <th>2</th>\n",
       "      <td>38</td>\n",
       "      <td>4</td>\n",
       "      <td>11</td>\n",
       "      <td>9</td>\n",
       "      <td>0</td>\n",
       "      <td>6</td>\n",
       "      <td>1</td>\n",
       "      <td>4</td>\n",
       "      <td>1</td>\n",
       "      <td>0</td>\n",
       "      <td>0</td>\n",
       "      <td>40</td>\n",
       "      <td>39</td>\n",
       "      <td>0</td>\n",
       "    </tr>\n",
       "    <tr>\n",
       "      <th>3</th>\n",
       "      <td>53</td>\n",
       "      <td>4</td>\n",
       "      <td>1</td>\n",
       "      <td>7</td>\n",
       "      <td>2</td>\n",
       "      <td>6</td>\n",
       "      <td>0</td>\n",
       "      <td>2</td>\n",
       "      <td>1</td>\n",
       "      <td>0</td>\n",
       "      <td>0</td>\n",
       "      <td>40</td>\n",
       "      <td>39</td>\n",
       "      <td>0</td>\n",
       "    </tr>\n",
       "    <tr>\n",
       "      <th>7</th>\n",
       "      <td>52</td>\n",
       "      <td>6</td>\n",
       "      <td>11</td>\n",
       "      <td>9</td>\n",
       "      <td>2</td>\n",
       "      <td>4</td>\n",
       "      <td>0</td>\n",
       "      <td>4</td>\n",
       "      <td>1</td>\n",
       "      <td>0</td>\n",
       "      <td>0</td>\n",
       "      <td>45</td>\n",
       "      <td>39</td>\n",
       "      <td>1</td>\n",
       "    </tr>\n",
       "  </tbody>\n",
       "</table>\n",
       "</div>"
      ],
      "text/plain": [
       "   Age  Workclass  Education  Education-num  Marital Status  Occupation  \\\n",
       "0   39          7          9             13               4           1   \n",
       "1   50          6          9             13               2           4   \n",
       "2   38          4         11              9               0           6   \n",
       "3   53          4          1              7               2           6   \n",
       "7   52          6         11              9               2           4   \n",
       "\n",
       "   Relationship  Race  Sex  Capital Gain  Capital Loss  Hours per Week  \\\n",
       "0             1     4    1          2174             0              40   \n",
       "1             0     4    1             0             0              13   \n",
       "2             1     4    1             0             0              40   \n",
       "3             0     2    1             0             0              40   \n",
       "7             0     4    1             0             0              45   \n",
       "\n",
       "   Native Country  Annual Gain  \n",
       "0              39            0  \n",
       "1              39            0  \n",
       "2              39            0  \n",
       "3              39            0  \n",
       "7              39            1  "
      ]
     },
     "execution_count": 9,
     "metadata": {},
     "output_type": "execute_result"
    }
   ],
   "source": [
    "#Populacao Masculina\n",
    "is_male = adult_data.Sex == 1\n",
    "is_male.head()\n",
    "male_data = adult_data[is_male]\n",
    "male_data.head()"
   ]
  },
  {
   "cell_type": "code",
   "execution_count": 10,
   "metadata": {
    "scrolled": true
   },
   "outputs": [
    {
     "data": {
      "text/plain": [
       "<matplotlib.axes._subplots.AxesSubplot at 0xbab58d0>"
      ]
     },
     "execution_count": 10,
     "metadata": {},
     "output_type": "execute_result"
    },
    {
     "data": {
      "image/png": "[encoded data removed]",
      "text/plain": [
       "<Figure size 432x288 with 1 Axes>"
      ]
     },
     "metadata": {
      "needs_background": "light"
     },
     "output_type": "display_data"
    }
   ],
   "source": [
    "sns.countplot(female_data['Annual Gain'])"
   ]
  },
  {
   "cell_type": "code",
   "execution_count": 11,
   "metadata": {},
   "outputs": [
    {
     "name": "stdout",
     "output_type": "stream",
     "text": [
      "Percentual de alta renda (populacao feminina): \n",
      " 10.946058861758425 %\n"
     ]
    }
   ],
   "source": [
    "female_1 = sum(female_data['Annual Gain']==1)\n",
    "\n",
    "female_0 = sum(female_data['Annual Gain']==0)\n",
    "\n",
    "female_ratio_high = female_1/(female_0 + female_1)\n",
    "print('Percentual de alta renda (populacao feminina): \\n', female_ratio_high*100, '%')"
   ]
  },
  {
   "cell_type": "markdown",
   "metadata": {},
   "source": [
    "Percebemos do resultado acima que o número de indivíduos na população feminina na classe \"Alta Renda\" é inferior ao percentual da população como um todo."
   ]
  },
  {
   "cell_type": "code",
   "execution_count": 12,
   "metadata": {},
   "outputs": [
    {
     "data": {
      "text/plain": [
       "<matplotlib.axes._subplots.AxesSubplot at 0xbafc668>"
      ]
     },
     "execution_count": 12,
     "metadata": {},
     "output_type": "execute_result"
    },
    {
     "data": {
      "image/png": "[encoded data removed]",
      "text/plain": [
       "<Figure size 432x288 with 1 Axes>"
      ]
     },
     "metadata": {
      "needs_background": "light"
     },
     "output_type": "display_data"
    }
   ],
   "source": [
    "sns.countplot(male_data['Annual Gain'])"
   ]
  },
  {
   "cell_type": "code",
   "execution_count": 13,
   "metadata": {},
   "outputs": [
    {
     "name": "stdout",
     "output_type": "stream",
     "text": [
      "Percentual de alta renda (populacao masculina): \n",
      " 30.573657641119777 %\n"
     ]
    }
   ],
   "source": [
    "male_1 = sum(male_data['Annual Gain']==1)\n",
    "\n",
    "male_0 = sum(male_data['Annual Gain']==0)\n",
    "\n",
    "male_ratio_high = male_1/(male_0 + male_1)\n",
    "print('Percentual de alta renda (populacao masculina): \\n', male_ratio_high*100, '%')"
   ]
  },
  {
   "cell_type": "markdown",
   "metadata": {},
   "source": [
    "Já para a população masculina, notamos um percentual superior de indivíduos com \"Alta Renda\", quando comparada com a população geral. Na sequência, vamos analisar como as classes \"Alta Renda\" e \"Baixa Renda\" se distribuem entre indivíduos brancos e não-brancos.\n",
    "\n",
    "## Análise das Populações Branca e Não-Branca"
   ]
  },
  {
   "cell_type": "code",
   "execution_count": 14,
   "metadata": {},
   "outputs": [
    {
     "name": "stdout",
     "output_type": "stream",
     "text": [
      "Percentual de alta renda (populacao branca): \n",
      " 25.58599367270636 %\n"
     ]
    },
    {
     "data": {
      "image/png": "[encoded data removed]",
      "text/plain": [
       "<Figure size 432x288 with 1 Axes>"
      ]
     },
     "metadata": {
      "needs_background": "light"
     },
     "output_type": "display_data"
    }
   ],
   "source": [
    "is_white = adult_data.Race == 4\n",
    "white_data = adult_data[is_white]\n",
    "\n",
    "sns.countplot(white_data['Annual Gain'] == 1)\n",
    "\n",
    "white_1 = sum(white_data['Annual Gain']==1)\n",
    "#print(white_1)\n",
    "\n",
    "white_0 = sum(white_data['Annual Gain']==0)\n",
    "#print(white_0)\n",
    "\n",
    "white_ratio_high = white_1/(white_0 + white_1)\n",
    "print('Percentual de alta renda (populacao branca): \\n', white_ratio_high*100, '%')"
   ]
  },
  {
   "cell_type": "markdown",
   "metadata": {},
   "source": [
    "Para o caso da população branca, notamos que o percentual de indivíduos classficados como \"Alta Renda\" está um pouco acima do valor correspondente à população geral."
   ]
  },
  {
   "cell_type": "code",
   "execution_count": 15,
   "metadata": {},
   "outputs": [
    {
     "name": "stdout",
     "output_type": "stream",
     "text": [
      "Percentual de alta renda (populacao não-branca): \n",
      " 15.258166491043204 %\n"
     ]
    },
    {
     "data": {
      "image/png": "[encoded data removed]",
      "text/plain": [
       "<Figure size 432x288 with 1 Axes>"
      ]
     },
     "metadata": {
      "needs_background": "light"
     },
     "output_type": "display_data"
    }
   ],
   "source": [
    "is_not_white = adult_data.Race != 4\n",
    "not_white_data = adult_data[is_not_white]\n",
    "\n",
    "sns.countplot(not_white_data['Annual Gain'] == 1)\n",
    "\n",
    "not_white_1 = sum(not_white_data['Annual Gain']==1)\n",
    "\n",
    "not_white_0 = sum(not_white_data['Annual Gain']==0)\n",
    "\n",
    "not_white_ratio_high = not_white_1/(not_white_0 + not_white_1)\n",
    "print('Percentual de alta renda (populacao não-branca): \\n', not_white_ratio_high*100, '%')"
   ]
  },
  {
   "cell_type": "markdown",
   "metadata": {},
   "source": [
    "Já para a população não-branca, notamos um percentual de \"Alta Renda\" inferior ao da população global."
   ]
  },
  {
   "cell_type": "markdown",
   "metadata": {},
   "source": [
    "# Metodologia \n",
    "\n",
    "Para a tarefa de classificação, empregaremos um classificador com regressão logística. Para os nossos propósitos aqui, adotaremos o atributo \"Gênero\" como atributo discriminatório. Ao todo, empregaremos 3 classificadores (todos treinados segundo o paradigma de regressão logística):\n",
    "\n",
    "1) Classificador Tradicional: neste caso, faremos o treinamento sem nenhum tipo de ajuste sobre os dados.\n",
    "\n",
    "2) Classificador com Descorrelação Linear: neste segundo caso, buscaremos descorrelacionar linearmente o atributo discriminatório das classes do problema (\"Fairness Constraints: Mechanisms for Fair Classification\", Zafar, _et al._, 2017).\n",
    "\n",
    "3) Classificador com Descorrelação Não Linear: neste último caso, buscaremos a independência entre o atributo Gênero e as classe do problema, por meio da descorrelação não-linear.\n",
    "\n"
   ]
  },
  {
   "cell_type": "code",
   "execution_count": 16,
   "metadata": {},
   "outputs": [],
   "source": [
    "dados_entrada = adult_data.values #converte dataframe para np array\n",
    "\n",
    "#Separacao dos dados em treinamento e teste\n",
    "percentual_teste = 0.3;\n",
    "fim_treinamento = math.floor((1-percentual_teste)*dados_entrada.shape[0]);\n",
    "\n",
    "dados_treino = dados_entrada[0:fim_treinamento+1, :];\n",
    "dados_teste = dados_entrada[fim_treinamento+1:dados_entrada.shape[0], :]\n",
    "\n",
    "entrada_treino = dados_treino[:, 0:dados_treino.shape[1]-1];\n",
    "saida_treino = dados_treino[:, dados_treino.shape[1]-1];\n",
    "saida_treino = np.reshape(saida_treino, (saida_treino.shape[0],1))\n",
    "\n",
    "entrada_teste = dados_teste[:, 0:dados_teste.shape[1]-1];\n",
    "\n",
    "saida_teste = dados_teste[:, dados_teste.shape[1]-1];\n",
    "saida_teste = np.reshape(saida_teste, (saida_teste.shape[0],1))"
   ]
  },
  {
   "cell_type": "code",
   "execution_count": 17,
   "metadata": {},
   "outputs": [
    {
     "name": "stdout",
     "output_type": "stream",
     "text": [
      "Acurácia Classificador 1 [%]:  76.44891482391482\n"
     ]
    }
   ],
   "source": [
    "MC = 100 #simulacoes de Monte Carlo\n",
    "\n",
    "acuracia_clf1 = 0;\n",
    "\n",
    "for i in range(0, MC):\n",
    "    #Classificador 1\n",
    "    clf1 = SGDClassifier(max_iter=1000, tol=1e-2)\n",
    "    clf1.fit(entrada_treino, saida_treino)\n",
    "\n",
    "    saida_pred_1 = clf1.predict(entrada_teste)\n",
    "    saida_pred_1 = np.reshape(saida_pred_1, (saida_pred_1.shape[0],1))\n",
    "\n",
    "    acuracia_clf1 = acuracia_clf1 + metrics.accuracy_score(saida_teste, saida_pred_1)\n",
    "\n",
    "#print('Acurácia Classificador 1 [%]: ', 100*acuracia_clf1/MC)"
   ]
  },
  {
   "cell_type": "code",
   "execution_count": 18,
   "metadata": {},
   "outputs": [
    {
     "name": "stdout",
     "output_type": "stream",
     "text": [
      "Acurácia Classificador 2 [%]:  76.35585585585582\n"
     ]
    }
   ],
   "source": [
    "#Classificador 2\n",
    "#Descorrelacao Linear via PCA\n",
    "\n",
    "entrada_treino_clf2 = np.copy(entrada_treino);\n",
    "aux = entrada_treino_clf2[:,8]\n",
    "aux = np.reshape(aux, (aux.shape[0],1))\n",
    "genero_modificado_treino = np.concatenate((aux, saida_treino), axis=1);\n",
    "pca = PCA(n_components=1);\n",
    "genero_modificado_treino = pca.fit_transform(genero_modificado_treino)\n",
    "entrada_treino_clf2[:,8] = genero_modificado_treino[:,0];\n",
    "\n",
    "entrada_teste_clf2 = np.copy(entrada_teste);\n",
    "aux = entrada_teste_clf2[:,8]\n",
    "aux = np.reshape(aux, (aux.shape[0],1))\n",
    "genero_modificado_teste = np.concatenate((aux, saida_teste), axis=1);\n",
    "pca = PCA(n_components=1);\n",
    "genero_modificado_teste = pca.fit_transform(genero_modificado_teste)\n",
    "entrada_teste_clf2[:,8] = genero_modificado_teste[:,0];\n",
    "\n",
    "acuracia_clf2=0;\n",
    "\n",
    "for i in range(0, MC):\n",
    "\n",
    "    clf2 = SGDClassifier(max_iter=1000, tol=1e-2)\n",
    "    clf2.fit(entrada_treino_clf2, saida_treino)\n",
    "\n",
    "    saida_pred_2 = clf2.predict(entrada_teste_clf2)\n",
    "    saida_pred_2 = np.reshape(saida_pred_2, (saida_pred_2.shape[0],1))\n",
    "\n",
    "    acuracia_clf2 = acuracia_clf2 + metrics.accuracy_score(saida_teste, saida_pred_2)\n",
    "\n",
    "#print('Acurácia Classificador 2 [%]: ', 100*acuracia_clf2/MC)\n"
   ]
  },
  {
   "cell_type": "code",
   "execution_count": 19,
   "metadata": {},
   "outputs": [
    {
     "name": "stdout",
     "output_type": "stream",
     "text": [
      "Acurácia Classificador 3 [%]:  0.6075962325962326\n"
     ]
    }
   ],
   "source": [
    "#Classificador 3\n",
    "#Independencia via PCA Não Linear\n",
    "\n",
    "entrada_treino_clf3 = np.copy(entrada_treino);\n",
    "aux = np.tanh(entrada_treino_clf3[:,8]) #funcao de nao linearidade\n",
    "aux = np.reshape(aux, (aux.shape[0],1))\n",
    "genero_modificado_treino = np.concatenate((aux, saida_treino), axis=1);\n",
    "pca = PCA(n_components=1);\n",
    "genero_modificado_treino = pca.fit_transform(genero_modificado_treino)\n",
    "entrada_treino_clf3[:,8] = genero_modificado_treino[:,0];\n",
    "\n",
    "entrada_teste_clf3 = np.copy(entrada_teste);\n",
    "aux = np.tanh(entrada_teste_clf2[:,8])\n",
    "aux = np.reshape(aux, (aux.shape[0],1))\n",
    "genero_modificado_teste = np.concatenate((aux, saida_teste), axis=1);\n",
    "pca = PCA(n_components=1);\n",
    "genero_modificado_teste = pca.fit_transform(genero_modificado_teste)\n",
    "entrada_teste_clf3[:,8] = genero_modificado_teste[:,0];\n",
    "\n",
    "acuracia_clf3=0\n",
    "\n",
    "for i in range(0, MC):\n",
    "\n",
    "    clf3 = SGDClassifier(max_iter=1000, tol=1e-2)\n",
    "    clf3.fit(entrada_treino_clf2, saida_treino)\n",
    "\n",
    "    saida_pred_3 = clf3.predict(entrada_teste_clf3)\n",
    "    saida_pred_3 = np.reshape(saida_pred_3, (saida_pred_3.shape[0],1))\n",
    "\n",
    "    acuracia_clf3 = metrics.accuracy_score(saida_teste, saida_pred_3)\n",
    "\n",
    "#print('Acurácia Classificador 3 [%]: ', 100*acuracia_clf3/MC)\n"
   ]
  },
  {
   "cell_type": "code",
   "execution_count": 29,
   "metadata": {},
   "outputs": [
    {
     "data": {
      "text/html": [
       "<div>\n",
       "<style scoped>\n",
       "    .dataframe tbody tr th:only-of-type {\n",
       "        vertical-align: middle;\n",
       "    }\n",
       "\n",
       "    .dataframe tbody tr th {\n",
       "        vertical-align: top;\n",
       "    }\n",
       "\n",
       "    .dataframe thead th {\n",
       "        text-align: right;\n",
       "    }\n",
       "</style>\n",
       "<table border=\"1\" class=\"dataframe\">\n",
       "  <thead>\n",
       "    <tr style=\"text-align: right;\">\n",
       "      <th></th>\n",
       "      <th>Classificador 1</th>\n",
       "      <th>Classificador 2</th>\n",
       "      <th>Classificador 3</th>\n",
       "    </tr>\n",
       "  </thead>\n",
       "  <tbody>\n",
       "    <tr>\n",
       "      <th>Acurácia [%]</th>\n",
       "      <td>76.44891482391482</td>\n",
       "      <td>76.35585585585582</td>\n",
       "      <td>0.6075962325962326</td>\n",
       "    </tr>\n",
       "  </tbody>\n",
       "</table>\n",
       "</div>"
      ],
      "text/plain": [
       "                Classificador 1    Classificador 2     Classificador 3\n",
       "Acurácia [%]  76.44891482391482  76.35585585585582  0.6075962325962326"
      ]
     },
     "execution_count": 29,
     "metadata": {},
     "output_type": "execute_result"
    }
   ],
   "source": [
    "# Geracao da saida\n",
    "\n",
    "saida_acuracua = np.array([['','Classificador 1','Classificador 2', 'Classificador 3'],\n",
    "                ['Acurácia [%]',acuracia_clf1,acuracia_clf2, acuracia_clf3]])\n",
    "\n",
    "acuracia_formatada = pd.DataFrame(data=saida_acuracia[1:,1:], index=saida_acuracia[1:,0], columns=saida_acuracia[0,1:])\n",
    "acuracia_formatada"
   ]
  },
  {
   "cell_type": "code",
   "execution_count": 66,
   "metadata": {},
   "outputs": [
    {
     "data": {
      "text/html": [
       "<div>\n",
       "<style scoped>\n",
       "    .dataframe tbody tr th:only-of-type {\n",
       "        vertical-align: middle;\n",
       "    }\n",
       "\n",
       "    .dataframe tbody tr th {\n",
       "        vertical-align: top;\n",
       "    }\n",
       "\n",
       "    .dataframe thead th {\n",
       "        text-align: right;\n",
       "    }\n",
       "</style>\n",
       "<table border=\"1\" class=\"dataframe\">\n",
       "  <thead>\n",
       "    <tr style=\"text-align: right;\">\n",
       "      <th></th>\n",
       "      <th>Classificador 1</th>\n",
       "      <th>Classificador 2</th>\n",
       "      <th>Classificador 3</th>\n",
       "    </tr>\n",
       "  </thead>\n",
       "  <tbody>\n",
       "    <tr>\n",
       "      <th>Pop. Masculina [%]</th>\n",
       "      <td>28.57289107289107</td>\n",
       "      <td>24.06838656838657</td>\n",
       "      <td>33.81449631449631</td>\n",
       "    </tr>\n",
       "    <tr>\n",
       "      <th>Pop. Feminina [%]</th>\n",
       "      <td>4.6580671580671575</td>\n",
       "      <td>5.61015561015561</td>\n",
       "      <td>10.36036036036036</td>\n",
       "    </tr>\n",
       "  </tbody>\n",
       "</table>\n",
       "</div>"
      ],
      "text/plain": [
       "                       Classificador 1    Classificador 2    Classificador 3\n",
       "Pop. Masculina [%]   28.57289107289107  24.06838656838657  33.81449631449631\n",
       "Pop. Feminina [%]   4.6580671580671575   5.61015561015561  10.36036036036036"
      ]
     },
     "execution_count": 66,
     "metadata": {},
     "output_type": "execute_result"
    }
   ],
   "source": [
    "#Calculo das taxas em cada uma das subpopulacoes\n",
    "\n",
    "indice_masc = entrada_teste[:,8]==1\n",
    "indice_fem = entrada_teste[:,8]==0\n",
    "\n",
    "saida_pred_1_masc = saida_pred_1[indice_masc]\n",
    "saida_pred_1_fem = saida_pred_1[indice_fem]\n",
    "tam_populacao = saida_pred_1.shape[0]\n",
    "total_masc_1 = sum(saida_pred_1_masc)\n",
    "total_fem_1 = sum(saida_pred_1_fem)\n",
    "taxa_masc_cl1 = total_masc_1/tam_populacao\n",
    "taxa_masc_cl1 = 100*taxa_masc_cl1[0]\n",
    "taxa_fem_cl1 = total_fem_1/tam_populacao\n",
    "taxa_fem_cl1 = 100*taxa_fem_cl1[0]\n",
    "\n",
    "saida_pred_2_masc = saida_pred_2[indice_masc]\n",
    "saida_pred_2_fem = saida_pred_2[indice_fem]\n",
    "total_masc_2 = sum(saida_pred_2_masc)\n",
    "total_fem_2 = sum(saida_pred_2_fem)\n",
    "taxa_masc_cl2 = total_masc_2/tam_populacao\n",
    "taxa_masc_cl2 = 100*taxa_masc_cl2[0]\n",
    "taxa_fem_cl2 = total_fem_2/tam_populacao\n",
    "taxa_fem_cl2 = 100*taxa_fem_cl2[0]\n",
    "\n",
    "saida_pred_3_masc = saida_pred_3[indice_masc]\n",
    "saida_pred_3_fem = saida_pred_3[indice_fem]\n",
    "total_masc_3 = sum(saida_pred_3_masc)\n",
    "total_fem_3 = sum(saida_pred_3_fem)\n",
    "taxa_masc_cl3 = total_masc_3/tam_populacao\n",
    "taxa_masc_cl3 = 100*taxa_masc_cl3[0]\n",
    "taxa_fem_cl3 = total_fem_3/tam_populacao\n",
    "taxa_fem_cl3 = 100*taxa_fem_cl3[0]\n",
    "\n",
    "\n",
    "saida_taxa = np.array([['','Classificador 1','Classificador 2', 'Classificador 3'],\n",
    "                ['Pop. Masculina [%]',taxa_masc_cl1, taxa_masc_cl2, taxa_masc_cl3],\n",
    "                ['Pop. Feminina [%]', taxa_fem_cl1,  taxa_fem_cl2,  taxa_fem_cl3]])\n",
    "\n",
    "taxa_formatada = pd.DataFrame(data=saida_taxa[1:,1:], index=saida_taxa[1:,0], columns=saida_taxa[0,1:])\n",
    "taxa_formatada\n"
   ]
  },
  {
   "cell_type": "markdown",
   "metadata": {},
   "source": [
    "# Workflow\n",
    "\n",
    "\n",
    "![title](../fig/WorkflowIA369.png)"
   ]
  },
  {
   "cell_type": "code",
   "execution_count": null,
   "metadata": {},
   "outputs": [],
   "source": []
  }
 ],
 "metadata": {
  "kernelspec": {
   "display_name": "Python 3",
   "language": "python",
   "name": "python3"
  },
  "language_info": {
   "codemirror_mode": {
    "name": "ipython",
    "version": 3
   },
   "file_extension": ".py",
   "mimetype": "text/x-python",
   "name": "python",
   "nbconvert_exporter": "python",
   "pygments_lexer": "ipython3",
   "version": "3.7.1"
  }
 },
 "nbformat": 4,
 "nbformat_minor": 2
}
