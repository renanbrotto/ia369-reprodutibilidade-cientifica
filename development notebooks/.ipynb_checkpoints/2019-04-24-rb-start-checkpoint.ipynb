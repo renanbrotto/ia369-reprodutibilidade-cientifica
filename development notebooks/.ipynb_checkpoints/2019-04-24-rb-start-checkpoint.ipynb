{
 "cells": [
  {
   "cell_type": "markdown",
   "metadata": {},
   "source": [
    "# Equidade em Aprendizado de Máquina\n",
    "\n",
    "\n",
    "Conjunto de dados: Adult Data Set (Disponível em: http://archive.ics.uci.edu/ml/datasets/adult e de domínio público). Este conjunto de dados é formado por 14 atributos, tanto categóricos quanto atributos numéricos, anonimizado. Dentre estes atributos temos idade, tipo de trabalho, gênero, etnia, estado civil, horas trabalhadas por semana entre outros. Para cada indivíduo do conjunto de dados, temos um rótulo, indicando uma renda anual superior (igual) a $50 k ou inferior a este limiar.   \n",
    "\n",
    "Contudo, existe uma inequidade entre a distribuição de indivíduos de \"Alta Renda\" e \"Baixa Renda\" entre as populações masculina e feminina, bem como entre a população branca e não-branca. \n",
    "\n"
   ]
  },
  {
   "cell_type": "code",
   "execution_count": 1,
   "metadata": {
    "scrolled": true
   },
   "outputs": [],
   "source": [
    "import numpy as np\n",
    "import pandas as pd\n",
    "from sklearn import preprocessing\n",
    "import seaborn as sns\n"
   ]
  },
  {
   "cell_type": "code",
   "execution_count": 2,
   "metadata": {
    "scrolled": true
   },
   "outputs": [],
   "source": [
    "def add_header(header, file, output_name):\n",
    "    #function to add a header to a csv file\n",
    "    import csv\n",
    "    \n",
    "    with open(file, 'rt') as input_file:\n",
    "        reader = csv.reader(input_file)\n",
    "        data_list = list(reader)\n",
    "    \n",
    "    with open(output_name, 'wt', newline ='') as output_file:\n",
    "        writer = csv.writer(output_file, delimiter=',')\n",
    "        writer.writerow(i for i in header)\n",
    "        for j in data_list:\n",
    "            writer.writerow(j)      "
   ]
  },
  {
   "cell_type": "code",
   "execution_count": 3,
   "metadata": {
    "scrolled": true
   },
   "outputs": [
    {
     "ename": "FileNotFoundError",
     "evalue": "[Errno 2] No such file or directory: './data/adult-data.csv'",
     "output_type": "error",
     "traceback": [
      "\u001b[1;31m---------------------------------------------------------------------------\u001b[0m",
      "\u001b[1;31mFileNotFoundError\u001b[0m                         Traceback (most recent call last)",
      "\u001b[1;32m<ipython-input-3-596c9db3a95c>\u001b[0m in \u001b[0;36m<module>\u001b[1;34m\u001b[0m\n\u001b[0;32m      4\u001b[0m \u001b[0mfile\u001b[0m \u001b[1;33m=\u001b[0m \u001b[1;34m\"./data/adult-data.csv\"\u001b[0m\u001b[1;33m\u001b[0m\u001b[1;33m\u001b[0m\u001b[0m\n\u001b[0;32m      5\u001b[0m \u001b[0moutput_name\u001b[0m \u001b[1;33m=\u001b[0m \u001b[1;34m\"./data/adultdataset.csv\"\u001b[0m\u001b[1;33m\u001b[0m\u001b[1;33m\u001b[0m\u001b[0m\n\u001b[1;32m----> 6\u001b[1;33m \u001b[0madd_header\u001b[0m\u001b[1;33m(\u001b[0m\u001b[0mheader\u001b[0m\u001b[1;33m,\u001b[0m \u001b[0mfile\u001b[0m\u001b[1;33m,\u001b[0m \u001b[0moutput_name\u001b[0m\u001b[1;33m)\u001b[0m\u001b[1;33m\u001b[0m\u001b[1;33m\u001b[0m\u001b[0m\n\u001b[0m",
      "\u001b[1;32m<ipython-input-2-7b04fb950adb>\u001b[0m in \u001b[0;36madd_header\u001b[1;34m(header, file, output_name)\u001b[0m\n\u001b[0;32m      3\u001b[0m     \u001b[1;32mimport\u001b[0m \u001b[0mcsv\u001b[0m\u001b[1;33m\u001b[0m\u001b[1;33m\u001b[0m\u001b[0m\n\u001b[0;32m      4\u001b[0m \u001b[1;33m\u001b[0m\u001b[0m\n\u001b[1;32m----> 5\u001b[1;33m     \u001b[1;32mwith\u001b[0m \u001b[0mopen\u001b[0m\u001b[1;33m(\u001b[0m\u001b[0mfile\u001b[0m\u001b[1;33m,\u001b[0m \u001b[1;34m'rt'\u001b[0m\u001b[1;33m)\u001b[0m \u001b[1;32mas\u001b[0m \u001b[0minput_file\u001b[0m\u001b[1;33m:\u001b[0m\u001b[1;33m\u001b[0m\u001b[1;33m\u001b[0m\u001b[0m\n\u001b[0m\u001b[0;32m      6\u001b[0m         \u001b[0mreader\u001b[0m \u001b[1;33m=\u001b[0m \u001b[0mcsv\u001b[0m\u001b[1;33m.\u001b[0m\u001b[0mreader\u001b[0m\u001b[1;33m(\u001b[0m\u001b[0minput_file\u001b[0m\u001b[1;33m)\u001b[0m\u001b[1;33m\u001b[0m\u001b[1;33m\u001b[0m\u001b[0m\n\u001b[0;32m      7\u001b[0m         \u001b[0mdata_list\u001b[0m \u001b[1;33m=\u001b[0m \u001b[0mlist\u001b[0m\u001b[1;33m(\u001b[0m\u001b[0mreader\u001b[0m\u001b[1;33m)\u001b[0m\u001b[1;33m\u001b[0m\u001b[1;33m\u001b[0m\u001b[0m\n",
      "\u001b[1;31mFileNotFoundError\u001b[0m: [Errno 2] No such file or directory: './data/adult-data.csv'"
     ]
    }
   ],
   "source": [
    "# Adicionando cabecalho aos dados\n",
    "\n",
    "header = [\"Age\", \"Workclass\", \"Fnlwgt\", \"Education\", \"Education-num\", \"Marital Status\", \"Occupation\", \"Relationship\", \"Race\", \"Sex\", \"Capital Gain\", \"Capital Loss\", \"Hours per Week\", \"Native Country\", \"Annual Gain\"]\n",
    "file = \"./data/adult-data.csv\"\n",
    "output_name = \"./data/adultdataset.csv\"\n",
    "add_header(header, file, output_name)"
   ]
  },
  {
   "cell_type": "code",
   "execution_count": null,
   "metadata": {
    "scrolled": true
   },
   "outputs": [],
   "source": [
    "#Abrindo o conjunto de dados\n",
    "\n",
    "adult_data = pd.read_csv(\"./data/adultdataset.csv\", sep=',')\n",
    "adult_data.head()"
   ]
  },
  {
   "cell_type": "markdown",
   "metadata": {},
   "source": [
    "Como podemos perceber, o ganho anual, variável que define as classes do nosso problema, ainda está em formato textual. Deste modo, precisamos tornar as classes do nosso problema binárias (0, 1)."
   ]
  },
  {
   "cell_type": "code",
   "execution_count": null,
   "metadata": {
    "scrolled": true
   },
   "outputs": [],
   "source": [
    "# Binarizacao das classes\n",
    "le = preprocessing.LabelEncoder()\n",
    "le.fit(adult_data['Annual Gain'])\n",
    "le.classes_\n",
    "adult_data['Annual Gain'] = le.transform(adult_data['Annual Gain'])\n",
    "adult_data.head()"
   ]
  },
  {
   "cell_type": "markdown",
   "metadata": {},
   "source": [
    "## População Completa\n",
    "\n",
    "Vamos agora, visualizar um pouco os dados. Inicialmente, vamos analisar a proporção de indivíduos com alta renda (>= 50K) na população completa."
   ]
  },
  {
   "cell_type": "code",
   "execution_count": null,
   "metadata": {
    "scrolled": true
   },
   "outputs": [],
   "source": [
    "sns.countplot(adult_data['Annual Gain'])\n",
    "\n",
    "adult_1 = sum(adult_data['Annual Gain']==1)\n",
    "\n",
    "adult_0 = sum(adult_data['Annual Gain']==0)\n",
    "\n",
    "ratio = adult_1/(adult_0 + adult_1)\n",
    "print('Percentual de alta renda (populacao completa): \\n', ratio*100, '%')"
   ]
  },
  {
   "cell_type": "markdown",
   "metadata": {},
   "source": [
    "Vamos agora dividir a nossa população entre a população masculina e feminina\n",
    "\n",
    "## Análise das Populações Masculina e Feminina"
   ]
  },
  {
   "cell_type": "code",
   "execution_count": null,
   "metadata": {
    "scrolled": true
   },
   "outputs": [],
   "source": [
    "sns.countplot(adult_data['Sex'])\n",
    "\n",
    "num_male = sum(adult_data['Sex']== ' Male')\n",
    "\n",
    "num_female = sum(adult_data['Sex']== ' Female')\n",
    "\n",
    "male_ratio = num_male/(num_male+num_female)\n",
    "female_ratio = num_female/(num_male+num_female)\n",
    "\n",
    "print('Percentual de homens na população: \\n', male_ratio*100, '%')\n",
    "print('Percentual de mulheres na população: \\n', female_ratio*100, '%')"
   ]
  },
  {
   "cell_type": "markdown",
   "metadata": {},
   "source": [
    "Do gráfico acima, podemos notar que existe um número consideravelmente de dados referentes a homens na população do que o número de dados associados. Em um paradigma tradicional de Aprendizado de Máquina, um número maior de padrões de entrada relacionado a homens será apresentado ao modelo, o que pode polarizar a tarefa de classificação."
   ]
  },
  {
   "cell_type": "code",
   "execution_count": null,
   "metadata": {
    "scrolled": true
   },
   "outputs": [],
   "source": [
    "# Populacao Feminina\n",
    "is_female = adult_data.Sex == ' Female'\n",
    "is_female.head()\n",
    "female_data = adult_data[is_female]\n",
    "female_data.head()"
   ]
  },
  {
   "cell_type": "code",
   "execution_count": null,
   "metadata": {},
   "outputs": [],
   "source": [
    "#Populacao Masculina\n",
    "is_male = adult_data.Sex == ' Male'\n",
    "is_male.head()\n",
    "male_data = adult_data[is_male]\n",
    "male_data.head()"
   ]
  },
  {
   "cell_type": "code",
   "execution_count": null,
   "metadata": {
    "scrolled": true
   },
   "outputs": [],
   "source": [
    "sns.countplot(female_data['Annual Gain'])"
   ]
  },
  {
   "cell_type": "code",
   "execution_count": null,
   "metadata": {},
   "outputs": [],
   "source": [
    "female_1 = sum(female_data['Annual Gain']==1)\n",
    "\n",
    "female_0 = sum(female_data['Annual Gain']==0)\n",
    "\n",
    "female_ratio_high = female_1/(female_0 + female_1)\n",
    "print('Percentual de alta renda (populacao feminina): \\n', female_ratio_high*100, '%')"
   ]
  },
  {
   "cell_type": "markdown",
   "metadata": {},
   "source": [
    "Percebemos do resultado acima que o número de indivíduos na população feminina na classe \"Alta Renda\" é inferior ao percentual da população como um todo."
   ]
  },
  {
   "cell_type": "code",
   "execution_count": null,
   "metadata": {},
   "outputs": [],
   "source": [
    "sns.countplot(male_data['Annual Gain'])"
   ]
  },
  {
   "cell_type": "code",
   "execution_count": null,
   "metadata": {},
   "outputs": [],
   "source": [
    "male_1 = sum(male_data['Annual Gain']==1)\n",
    "\n",
    "male_0 = sum(male_data['Annual Gain']==0)\n",
    "\n",
    "male_ratio_high = male_1/(male_0 + male_1)\n",
    "print('Percentual de alta renda (populacao masculina): \\n', male_ratio_high*100, '%')"
   ]
  },
  {
   "cell_type": "markdown",
   "metadata": {},
   "source": [
    "Já para a população masculina, notamos um percentual superior de indivíduos com \"Alta Renda\", quando comparada com a população geral. Na sequência, vamos analisar como as classes \"Alta Renda\" e \"Baixa Renda\" se distribuem entre indivíduos brancos e não-brancos.\n",
    "\n",
    "## Análise das Populações Branca e Não-Branca"
   ]
  },
  {
   "cell_type": "code",
   "execution_count": null,
   "metadata": {},
   "outputs": [],
   "source": [
    "is_white = adult_data.Race == ' White'\n",
    "white_data = adult_data[is_white]\n",
    "\n",
    "sns.countplot(white_data['Annual Gain'] == 1)\n",
    "\n",
    "white_1 = sum(white_data['Annual Gain']==1)\n",
    "#print(white_1)\n",
    "\n",
    "white_0 = sum(white_data['Annual Gain']==0)\n",
    "#print(white_0)\n",
    "\n",
    "white_ratio_high = white_1/(white_0 + white_1)\n",
    "print('Percentual de alta renda (populacao branca): \\n', white_ratio_high*100, '%')"
   ]
  },
  {
   "cell_type": "markdown",
   "metadata": {},
   "source": [
    "Para o caso da população branca, notamos que o percentual de indivíduos classficados como \"Alta Renda\" está um pouco acima do valor correspondente à população geral."
   ]
  },
  {
   "cell_type": "code",
   "execution_count": null,
   "metadata": {},
   "outputs": [],
   "source": [
    "is_not_white = adult_data.Race != ' White'\n",
    "not_white_data = adult_data[is_not_white]\n",
    "\n",
    "sns.countplot(not_white_data['Annual Gain'] == 1)\n",
    "\n",
    "not_white_1 = sum(not_white_data['Annual Gain']==1)\n",
    "\n",
    "not_white_0 = sum(not_white_data['Annual Gain']==0)\n",
    "\n",
    "not_white_ratio_high = not_white_1/(not_white_0 + not_white_1)\n",
    "print('Percentual de alta renda (populacao não-branca): \\n', not_white_ratio_high*100, '%')"
   ]
  },
  {
   "cell_type": "markdown",
   "metadata": {},
   "source": [
    "Já para a população não-branca, notamos um percentual de \"Alta Renda\" inferior ao da população global."
   ]
  }
 ],
 "metadata": {
  "kernelspec": {
   "display_name": "Python 3",
   "language": "python",
   "name": "python3"
  },
  "language_info": {
   "codemirror_mode": {
    "name": "ipython",
    "version": 3
   },
   "file_extension": ".py",
   "mimetype": "text/x-python",
   "name": "python",
   "nbconvert_exporter": "python",
   "pygments_lexer": "ipython3",
   "version": "3.7.1"
  }
 },
 "nbformat": 4,
 "nbformat_minor": 2
}
